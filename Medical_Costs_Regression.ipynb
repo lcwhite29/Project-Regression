{
 "cells": [
  {
   "cell_type": "markdown",
   "id": "b2b62506",
   "metadata": {},
   "source": [
    "# Project - Medical Costs (Regression)"
   ]
  },
  {
   "cell_type": "markdown",
   "id": "563d2d1a",
   "metadata": {},
   "source": [
    "For this project I explore a medical costs data set which can be found online and I attempt to find make a model which can accurately predict the cost. "
   ]
  },
  {
   "cell_type": "code",
   "execution_count": 1,
   "id": "0ec8e933",
   "metadata": {},
   "outputs": [],
   "source": [
    "#Importing important packages for use\n",
    "import pandas as pd\n",
    "import numpy as np\n",
    "import matplotlib.pyplot as plt\n",
    "import seaborn as sns\n",
    "%matplotlib inline"
   ]
  },
  {
   "cell_type": "code",
   "execution_count": 2,
   "id": "4f085193",
   "metadata": {},
   "outputs": [],
   "source": [
    "#Taking in data from online and reading in the csv file\n",
    "url ='https://raw.githubusercontent.com/stedy/Machine-Learning-with-R-datasets/master/insurance.csv'\n",
    "df =  pd.read_csv(url)"
   ]
  },
  {
   "cell_type": "markdown",
   "id": "c4e6299b",
   "metadata": {},
   "source": [
    "Looking at the info of the dataframe we see there is no missing data. There is also a mix of numeric and catagorical features"
   ]
  },
  {
   "cell_type": "code",
   "execution_count": 3,
   "id": "d94032ca",
   "metadata": {},
   "outputs": [
    {
     "name": "stdout",
     "output_type": "stream",
     "text": [
      "<class 'pandas.core.frame.DataFrame'>\n",
      "RangeIndex: 1338 entries, 0 to 1337\n",
      "Data columns (total 7 columns):\n",
      " #   Column    Non-Null Count  Dtype  \n",
      "---  ------    --------------  -----  \n",
      " 0   age       1338 non-null   int64  \n",
      " 1   sex       1338 non-null   object \n",
      " 2   bmi       1338 non-null   float64\n",
      " 3   children  1338 non-null   int64  \n",
      " 4   smoker    1338 non-null   object \n",
      " 5   region    1338 non-null   object \n",
      " 6   charges   1338 non-null   float64\n",
      "dtypes: float64(2), int64(2), object(3)\n",
      "memory usage: 73.3+ KB\n"
     ]
    }
   ],
   "source": [
    "df.info()"
   ]
  },
  {
   "cell_type": "markdown",
   "id": "9a135010",
   "metadata": {},
   "source": [
    "Some stats for the numeric data columns. Note the std of the charges is around 12000. However 50% of the charges are between around 4700 and 16600. So the large standard deviation is likely down to outliers."
   ]
  },
  {
   "cell_type": "code",
   "execution_count": 4,
   "id": "6e8c45ec",
   "metadata": {},
   "outputs": [
    {
     "data": {
      "text/html": [
       "<div>\n",
       "<style scoped>\n",
       "    .dataframe tbody tr th:only-of-type {\n",
       "        vertical-align: middle;\n",
       "    }\n",
       "\n",
       "    .dataframe tbody tr th {\n",
       "        vertical-align: top;\n",
       "    }\n",
       "\n",
       "    .dataframe thead th {\n",
       "        text-align: right;\n",
       "    }\n",
       "</style>\n",
       "<table border=\"1\" class=\"dataframe\">\n",
       "  <thead>\n",
       "    <tr style=\"text-align: right;\">\n",
       "      <th></th>\n",
       "      <th>age</th>\n",
       "      <th>bmi</th>\n",
       "      <th>children</th>\n",
       "      <th>charges</th>\n",
       "    </tr>\n",
       "  </thead>\n",
       "  <tbody>\n",
       "    <tr>\n",
       "      <th>count</th>\n",
       "      <td>1338.000000</td>\n",
       "      <td>1338.000000</td>\n",
       "      <td>1338.000000</td>\n",
       "      <td>1338.000000</td>\n",
       "    </tr>\n",
       "    <tr>\n",
       "      <th>mean</th>\n",
       "      <td>39.207025</td>\n",
       "      <td>30.663397</td>\n",
       "      <td>1.094918</td>\n",
       "      <td>13270.422265</td>\n",
       "    </tr>\n",
       "    <tr>\n",
       "      <th>std</th>\n",
       "      <td>14.049960</td>\n",
       "      <td>6.098187</td>\n",
       "      <td>1.205493</td>\n",
       "      <td>12110.011237</td>\n",
       "    </tr>\n",
       "    <tr>\n",
       "      <th>min</th>\n",
       "      <td>18.000000</td>\n",
       "      <td>15.960000</td>\n",
       "      <td>0.000000</td>\n",
       "      <td>1121.873900</td>\n",
       "    </tr>\n",
       "    <tr>\n",
       "      <th>25%</th>\n",
       "      <td>27.000000</td>\n",
       "      <td>26.296250</td>\n",
       "      <td>0.000000</td>\n",
       "      <td>4740.287150</td>\n",
       "    </tr>\n",
       "    <tr>\n",
       "      <th>50%</th>\n",
       "      <td>39.000000</td>\n",
       "      <td>30.400000</td>\n",
       "      <td>1.000000</td>\n",
       "      <td>9382.033000</td>\n",
       "    </tr>\n",
       "    <tr>\n",
       "      <th>75%</th>\n",
       "      <td>51.000000</td>\n",
       "      <td>34.693750</td>\n",
       "      <td>2.000000</td>\n",
       "      <td>16639.912515</td>\n",
       "    </tr>\n",
       "    <tr>\n",
       "      <th>max</th>\n",
       "      <td>64.000000</td>\n",
       "      <td>53.130000</td>\n",
       "      <td>5.000000</td>\n",
       "      <td>63770.428010</td>\n",
       "    </tr>\n",
       "  </tbody>\n",
       "</table>\n",
       "</div>"
      ],
      "text/plain": [
       "               age          bmi     children       charges\n",
       "count  1338.000000  1338.000000  1338.000000   1338.000000\n",
       "mean     39.207025    30.663397     1.094918  13270.422265\n",
       "std      14.049960     6.098187     1.205493  12110.011237\n",
       "min      18.000000    15.960000     0.000000   1121.873900\n",
       "25%      27.000000    26.296250     0.000000   4740.287150\n",
       "50%      39.000000    30.400000     1.000000   9382.033000\n",
       "75%      51.000000    34.693750     2.000000  16639.912515\n",
       "max      64.000000    53.130000     5.000000  63770.428010"
      ]
     },
     "execution_count": 4,
     "metadata": {},
     "output_type": "execute_result"
    }
   ],
   "source": [
    "df.describe()"
   ]
  },
  {
   "cell_type": "code",
   "execution_count": 5,
   "id": "32563a84",
   "metadata": {},
   "outputs": [
    {
     "data": {
      "text/html": [
       "<div>\n",
       "<style scoped>\n",
       "    .dataframe tbody tr th:only-of-type {\n",
       "        vertical-align: middle;\n",
       "    }\n",
       "\n",
       "    .dataframe tbody tr th {\n",
       "        vertical-align: top;\n",
       "    }\n",
       "\n",
       "    .dataframe thead th {\n",
       "        text-align: right;\n",
       "    }\n",
       "</style>\n",
       "<table border=\"1\" class=\"dataframe\">\n",
       "  <thead>\n",
       "    <tr style=\"text-align: right;\">\n",
       "      <th></th>\n",
       "      <th>age</th>\n",
       "      <th>sex</th>\n",
       "      <th>bmi</th>\n",
       "      <th>children</th>\n",
       "      <th>smoker</th>\n",
       "      <th>region</th>\n",
       "      <th>charges</th>\n",
       "    </tr>\n",
       "  </thead>\n",
       "  <tbody>\n",
       "    <tr>\n",
       "      <th>0</th>\n",
       "      <td>19</td>\n",
       "      <td>female</td>\n",
       "      <td>27.900</td>\n",
       "      <td>0</td>\n",
       "      <td>yes</td>\n",
       "      <td>southwest</td>\n",
       "      <td>16884.92400</td>\n",
       "    </tr>\n",
       "    <tr>\n",
       "      <th>1</th>\n",
       "      <td>18</td>\n",
       "      <td>male</td>\n",
       "      <td>33.770</td>\n",
       "      <td>1</td>\n",
       "      <td>no</td>\n",
       "      <td>southeast</td>\n",
       "      <td>1725.55230</td>\n",
       "    </tr>\n",
       "    <tr>\n",
       "      <th>2</th>\n",
       "      <td>28</td>\n",
       "      <td>male</td>\n",
       "      <td>33.000</td>\n",
       "      <td>3</td>\n",
       "      <td>no</td>\n",
       "      <td>southeast</td>\n",
       "      <td>4449.46200</td>\n",
       "    </tr>\n",
       "    <tr>\n",
       "      <th>3</th>\n",
       "      <td>33</td>\n",
       "      <td>male</td>\n",
       "      <td>22.705</td>\n",
       "      <td>0</td>\n",
       "      <td>no</td>\n",
       "      <td>northwest</td>\n",
       "      <td>21984.47061</td>\n",
       "    </tr>\n",
       "    <tr>\n",
       "      <th>4</th>\n",
       "      <td>32</td>\n",
       "      <td>male</td>\n",
       "      <td>28.880</td>\n",
       "      <td>0</td>\n",
       "      <td>no</td>\n",
       "      <td>northwest</td>\n",
       "      <td>3866.85520</td>\n",
       "    </tr>\n",
       "  </tbody>\n",
       "</table>\n",
       "</div>"
      ],
      "text/plain": [
       "   age     sex     bmi  children smoker     region      charges\n",
       "0   19  female  27.900         0    yes  southwest  16884.92400\n",
       "1   18    male  33.770         1     no  southeast   1725.55230\n",
       "2   28    male  33.000         3     no  southeast   4449.46200\n",
       "3   33    male  22.705         0     no  northwest  21984.47061\n",
       "4   32    male  28.880         0     no  northwest   3866.85520"
      ]
     },
     "execution_count": 5,
     "metadata": {},
     "output_type": "execute_result"
    }
   ],
   "source": [
    "#Head of the dataframe\n",
    "df.head()"
   ]
  },
  {
   "cell_type": "code",
   "execution_count": 6,
   "id": "32ce84f8",
   "metadata": {},
   "outputs": [
    {
     "data": {
      "text/plain": [
       "<seaborn.axisgrid.PairGrid at 0x7ff6523830a0>"
      ]
     },
     "execution_count": 6,
     "metadata": {},
     "output_type": "execute_result"
    },
    {
     "data": {
      "image/png": "[encoded data removed]",
      "text/plain": [
       "<Figure size 720x720 with 20 Axes>"
      ]
     },
     "metadata": {
      "needs_background": "light"
     },
     "output_type": "display_data"
    }
   ],
   "source": [
    "#Pairplot\n",
    "sns.pairplot(df)"
   ]
  },
  {
   "cell_type": "code",
   "execution_count": 7,
   "id": "a25b9ce8",
   "metadata": {},
   "outputs": [
    {
     "data": {
      "text/plain": [
       "<AxesSubplot:xlabel='sex', ylabel='count'>"
      ]
     },
     "execution_count": 7,
     "metadata": {},
     "output_type": "execute_result"
    },
    {
     "data": {
      "image/png": "[encoded data removed]",
      "text/plain": [
       "<Figure size 432x288 with 1 Axes>"
      ]
     },
     "metadata": {
      "needs_background": "light"
     },
     "output_type": "display_data"
    }
   ],
   "source": [
    "sns.countplot(x='sex',data=df)"
   ]
  },
  {
   "cell_type": "code",
   "execution_count": 8,
   "id": "e37bc5e5",
   "metadata": {},
   "outputs": [
    {
     "data": {
      "text/plain": [
       "<AxesSubplot:xlabel='smoker', ylabel='count'>"
      ]
     },
     "execution_count": 8,
     "metadata": {},
     "output_type": "execute_result"
    },
    {
     "data": {
      "image/png": "[encoded data removed]",
      "text/plain": [
       "<Figure size 432x288 with 1 Axes>"
      ]
     },
     "metadata": {
      "needs_background": "light"
     },
     "output_type": "display_data"
    }
   ],
   "source": [
    "sns.countplot(x='smoker',data=df)"
   ]
  },
  {
   "cell_type": "code",
   "execution_count": 9,
   "id": "c28910f3",
   "metadata": {},
   "outputs": [
    {
     "data": {
      "text/plain": [
       "<AxesSubplot:xlabel='count', ylabel='region'>"
      ]
     },
     "execution_count": 9,
     "metadata": {},
     "output_type": "execute_result"
    },
    {
     "data": {
      "image/png": "[encoded data removed]",
      "text/plain": [
       "<Figure size 432x288 with 1 Axes>"
      ]
     },
     "metadata": {
      "needs_background": "light"
     },
     "output_type": "display_data"
    }
   ],
   "source": [
    "sns.countplot(y='region',data=df)"
   ]
  },
  {
   "cell_type": "markdown",
   "id": "9a8d7eb5",
   "metadata": {},
   "source": [
    "Here I am making a function which will change my sex catagory from male and female to 1 and 0, i.e., making the sex catagory numeric."
   ]
  },
  {
   "cell_type": "code",
   "execution_count": 10,
   "id": "c96f7168",
   "metadata": {},
   "outputs": [],
   "source": [
    "#Function for changing sex to a numeric column\n",
    "def sex(sex):\n",
    "    '''Return 1 for male and 0 for female.'''\n",
    "    if sex == 'male':\n",
    "        return 1\n",
    "    else:\n",
    "        return 0"
   ]
  },
  {
   "cell_type": "code",
   "execution_count": 11,
   "id": "26d5c954",
   "metadata": {},
   "outputs": [],
   "source": [
    "#Making the new column\n",
    "df['sex_zero_one']  = df['sex'].apply(sex)"
   ]
  },
  {
   "cell_type": "code",
   "execution_count": 12,
   "id": "24313412",
   "metadata": {},
   "outputs": [
    {
     "data": {
      "text/html": [
       "<div>\n",
       "<style scoped>\n",
       "    .dataframe tbody tr th:only-of-type {\n",
       "        vertical-align: middle;\n",
       "    }\n",
       "\n",
       "    .dataframe tbody tr th {\n",
       "        vertical-align: top;\n",
       "    }\n",
       "\n",
       "    .dataframe thead th {\n",
       "        text-align: right;\n",
       "    }\n",
       "</style>\n",
       "<table border=\"1\" class=\"dataframe\">\n",
       "  <thead>\n",
       "    <tr style=\"text-align: right;\">\n",
       "      <th></th>\n",
       "      <th>age</th>\n",
       "      <th>bmi</th>\n",
       "      <th>children</th>\n",
       "      <th>smoker</th>\n",
       "      <th>region</th>\n",
       "      <th>charges</th>\n",
       "      <th>sex_zero_one</th>\n",
       "    </tr>\n",
       "  </thead>\n",
       "  <tbody>\n",
       "    <tr>\n",
       "      <th>0</th>\n",
       "      <td>19</td>\n",
       "      <td>27.900</td>\n",
       "      <td>0</td>\n",
       "      <td>yes</td>\n",
       "      <td>southwest</td>\n",
       "      <td>16884.92400</td>\n",
       "      <td>0</td>\n",
       "    </tr>\n",
       "    <tr>\n",
       "      <th>1</th>\n",
       "      <td>18</td>\n",
       "      <td>33.770</td>\n",
       "      <td>1</td>\n",
       "      <td>no</td>\n",
       "      <td>southeast</td>\n",
       "      <td>1725.55230</td>\n",
       "      <td>1</td>\n",
       "    </tr>\n",
       "    <tr>\n",
       "      <th>2</th>\n",
       "      <td>28</td>\n",
       "      <td>33.000</td>\n",
       "      <td>3</td>\n",
       "      <td>no</td>\n",
       "      <td>southeast</td>\n",
       "      <td>4449.46200</td>\n",
       "      <td>1</td>\n",
       "    </tr>\n",
       "    <tr>\n",
       "      <th>3</th>\n",
       "      <td>33</td>\n",
       "      <td>22.705</td>\n",
       "      <td>0</td>\n",
       "      <td>no</td>\n",
       "      <td>northwest</td>\n",
       "      <td>21984.47061</td>\n",
       "      <td>1</td>\n",
       "    </tr>\n",
       "    <tr>\n",
       "      <th>4</th>\n",
       "      <td>32</td>\n",
       "      <td>28.880</td>\n",
       "      <td>0</td>\n",
       "      <td>no</td>\n",
       "      <td>northwest</td>\n",
       "      <td>3866.85520</td>\n",
       "      <td>1</td>\n",
       "    </tr>\n",
       "  </tbody>\n",
       "</table>\n",
       "</div>"
      ],
      "text/plain": [
       "   age     bmi  children smoker     region      charges  sex_zero_one\n",
       "0   19  27.900         0    yes  southwest  16884.92400             0\n",
       "1   18  33.770         1     no  southeast   1725.55230             1\n",
       "2   28  33.000         3     no  southeast   4449.46200             1\n",
       "3   33  22.705         0     no  northwest  21984.47061             1\n",
       "4   32  28.880         0     no  northwest   3866.85520             1"
      ]
     },
     "execution_count": 12,
     "metadata": {},
     "output_type": "execute_result"
    }
   ],
   "source": [
    "#Droping the original sex column\n",
    "df.drop('sex',axis=1,inplace=True)\n",
    "df.head()"
   ]
  },
  {
   "cell_type": "markdown",
   "id": "25588d48",
   "metadata": {},
   "source": [
    "Here I am making a function which will change my smoker catagory from yes and no to 1 and 0, i.e., making the smoker catagory numeric. Note both of these catagories could be changed to numeric using map and a dictionary."
   ]
  },
  {
   "cell_type": "code",
   "execution_count": 13,
   "id": "0c8f43b6",
   "metadata": {},
   "outputs": [],
   "source": [
    "#Making a function to chnage the smoker column to a numeric variable\n",
    "def smoker(smoker):\n",
    "    '''Return 1 for a smoker 'yes' and 0 for a non-smoker 'no'.'''\n",
    "    if smoker == 'yes':\n",
    "        return 1\n",
    "    if smoker == 'no':\n",
    "        return 0"
   ]
  },
  {
   "cell_type": "code",
   "execution_count": 14,
   "id": "a4d3e629",
   "metadata": {},
   "outputs": [],
   "source": [
    "#Making the new column for smoker or non smoker\n",
    "df['smoker_zero_one'] = df['smoker'].apply(lambda x: smoker(x))"
   ]
  },
  {
   "cell_type": "code",
   "execution_count": 15,
   "id": "699ba0d3",
   "metadata": {},
   "outputs": [],
   "source": [
    "#Drop the original smoker column\n",
    "df.drop('smoker',axis=1,inplace=True)"
   ]
  },
  {
   "cell_type": "markdown",
   "id": "b3ac8147",
   "metadata": {},
   "source": [
    "Using get dummies to change the region column to a numeric column and dropping the original region column."
   ]
  },
  {
   "cell_type": "code",
   "execution_count": 16,
   "id": "3e3027d2",
   "metadata": {},
   "outputs": [],
   "source": [
    "new_columns = pd.get_dummies(df['region'],drop_first=True)\n",
    "df.drop('region',axis=1,inplace=True)"
   ]
  },
  {
   "cell_type": "code",
   "execution_count": 17,
   "id": "707c1160",
   "metadata": {},
   "outputs": [],
   "source": [
    "#Combining the current dataframe with the new region columns\n",
    "df = pd.concat([df,new_columns],axis=1)"
   ]
  },
  {
   "cell_type": "markdown",
   "id": "d7a29a4b",
   "metadata": {},
   "source": [
    "Now we have a dataframe with only numeric columns from which we can train a model."
   ]
  },
  {
   "cell_type": "code",
   "execution_count": 18,
   "id": "865968b6",
   "metadata": {},
   "outputs": [
    {
     "data": {
      "text/html": [
       "<div>\n",
       "<style scoped>\n",
       "    .dataframe tbody tr th:only-of-type {\n",
       "        vertical-align: middle;\n",
       "    }\n",
       "\n",
       "    .dataframe tbody tr th {\n",
       "        vertical-align: top;\n",
       "    }\n",
       "\n",
       "    .dataframe thead th {\n",
       "        text-align: right;\n",
       "    }\n",
       "</style>\n",
       "<table border=\"1\" class=\"dataframe\">\n",
       "  <thead>\n",
       "    <tr style=\"text-align: right;\">\n",
       "      <th></th>\n",
       "      <th>age</th>\n",
       "      <th>bmi</th>\n",
       "      <th>children</th>\n",
       "      <th>charges</th>\n",
       "      <th>sex_zero_one</th>\n",
       "      <th>smoker_zero_one</th>\n",
       "      <th>northwest</th>\n",
       "      <th>southeast</th>\n",
       "      <th>southwest</th>\n",
       "    </tr>\n",
       "  </thead>\n",
       "  <tbody>\n",
       "    <tr>\n",
       "      <th>0</th>\n",
       "      <td>19</td>\n",
       "      <td>27.900</td>\n",
       "      <td>0</td>\n",
       "      <td>16884.92400</td>\n",
       "      <td>0</td>\n",
       "      <td>1</td>\n",
       "      <td>0</td>\n",
       "      <td>0</td>\n",
       "      <td>1</td>\n",
       "    </tr>\n",
       "    <tr>\n",
       "      <th>1</th>\n",
       "      <td>18</td>\n",
       "      <td>33.770</td>\n",
       "      <td>1</td>\n",
       "      <td>1725.55230</td>\n",
       "      <td>1</td>\n",
       "      <td>0</td>\n",
       "      <td>0</td>\n",
       "      <td>1</td>\n",
       "      <td>0</td>\n",
       "    </tr>\n",
       "    <tr>\n",
       "      <th>2</th>\n",
       "      <td>28</td>\n",
       "      <td>33.000</td>\n",
       "      <td>3</td>\n",
       "      <td>4449.46200</td>\n",
       "      <td>1</td>\n",
       "      <td>0</td>\n",
       "      <td>0</td>\n",
       "      <td>1</td>\n",
       "      <td>0</td>\n",
       "    </tr>\n",
       "    <tr>\n",
       "      <th>3</th>\n",
       "      <td>33</td>\n",
       "      <td>22.705</td>\n",
       "      <td>0</td>\n",
       "      <td>21984.47061</td>\n",
       "      <td>1</td>\n",
       "      <td>0</td>\n",
       "      <td>1</td>\n",
       "      <td>0</td>\n",
       "      <td>0</td>\n",
       "    </tr>\n",
       "    <tr>\n",
       "      <th>4</th>\n",
       "      <td>32</td>\n",
       "      <td>28.880</td>\n",
       "      <td>0</td>\n",
       "      <td>3866.85520</td>\n",
       "      <td>1</td>\n",
       "      <td>0</td>\n",
       "      <td>1</td>\n",
       "      <td>0</td>\n",
       "      <td>0</td>\n",
       "    </tr>\n",
       "  </tbody>\n",
       "</table>\n",
       "</div>"
      ],
      "text/plain": [
       "   age     bmi  children      charges  sex_zero_one  smoker_zero_one  \\\n",
       "0   19  27.900         0  16884.92400             0                1   \n",
       "1   18  33.770         1   1725.55230             1                0   \n",
       "2   28  33.000         3   4449.46200             1                0   \n",
       "3   33  22.705         0  21984.47061             1                0   \n",
       "4   32  28.880         0   3866.85520             1                0   \n",
       "\n",
       "   northwest  southeast  southwest  \n",
       "0          0          0          1  \n",
       "1          0          1          0  \n",
       "2          0          1          0  \n",
       "3          1          0          0  \n",
       "4          1          0          0  "
      ]
     },
     "execution_count": 18,
     "metadata": {},
     "output_type": "execute_result"
    }
   ],
   "source": [
    "#Head of the new data frame\n",
    "df.head()"
   ]
  },
  {
   "cell_type": "code",
   "execution_count": 19,
   "id": "185fa6d5",
   "metadata": {},
   "outputs": [],
   "source": [
    "#Importing train_test_split from sklearn\n",
    "from sklearn.model_selection import train_test_split"
   ]
  },
  {
   "cell_type": "code",
   "execution_count": 20,
   "id": "16cb5bcb",
   "metadata": {},
   "outputs": [],
   "source": [
    "#Spliting the data\n",
    "X = df.drop('charges',axis=1)\n",
    "y = df['charges']\n",
    "\n",
    "X_train, X_test, y_train, y_test = train_test_split(X, y, test_size=0.3, random_state=101)"
   ]
  },
  {
   "cell_type": "code",
   "execution_count": 21,
   "id": "ef79b5f3",
   "metadata": {},
   "outputs": [],
   "source": [
    "#Importing the linear regression model\n",
    "from sklearn.linear_model import LinearRegression"
   ]
  },
  {
   "cell_type": "code",
   "execution_count": 22,
   "id": "d71115d1",
   "metadata": {},
   "outputs": [],
   "source": [
    "#Making a instance of the model\n",
    "model = LinearRegression()"
   ]
  },
  {
   "cell_type": "code",
   "execution_count": 23,
   "id": "e31a00f2",
   "metadata": {},
   "outputs": [
    {
     "data": {
      "text/plain": [
       "LinearRegression()"
      ]
     },
     "execution_count": 23,
     "metadata": {},
     "output_type": "execute_result"
    }
   ],
   "source": [
    "#Fit the model to the data\n",
    "model.fit(X_train,y_train)"
   ]
  },
  {
   "cell_type": "code",
   "execution_count": 24,
   "id": "f6b0350b",
   "metadata": {},
   "outputs": [],
   "source": [
    "#Making predictions with the model\n",
    "predictions = model.predict(X_test)"
   ]
  },
  {
   "cell_type": "code",
   "execution_count": 25,
   "id": "f2c8a57e",
   "metadata": {},
   "outputs": [],
   "source": [
    "#Importing the metrics from sklearn\n",
    "from sklearn.metrics import mean_absolute_error, mean_squared_error"
   ]
  },
  {
   "cell_type": "markdown",
   "id": "720ef7d0",
   "metadata": {},
   "source": [
    "As we see here the model did a pretty average job of predicting the price of medical costs."
   ]
  },
  {
   "cell_type": "code",
   "execution_count": 26,
   "id": "91329d1c",
   "metadata": {},
   "outputs": [
    {
     "name": "stdout",
     "output_type": "stream",
     "text": [
      "Mean absolute error:\n",
      "3987.962847697632\n",
      "Mean squared error:\n",
      "33683659.324656494\n",
      "Square root of Mean squared error:\n",
      "5803.762514494929\n"
     ]
    }
   ],
   "source": [
    "#Metrics of the model\n",
    "print('Mean absolute error:')\n",
    "print(mean_absolute_error(y_test,predictions))\n",
    "print('Mean squared error:' )\n",
    "print(mean_squared_error(y_test,predictions))\n",
    "print('Square root of Mean squared error:' )\n",
    "print(np.sqrt(mean_squared_error(y_test,predictions)))"
   ]
  },
  {
   "cell_type": "markdown",
   "id": "27f48714",
   "metadata": {},
   "source": [
    "Now we are going to remove the outliers from the dataset and then make a new model and test the new model and see if we find our results are better than before."
   ]
  },
  {
   "cell_type": "code",
   "execution_count": 27,
   "id": "d0309a96",
   "metadata": {},
   "outputs": [],
   "source": [
    "Q1 = df.quantile(0.25)['charges']\n",
    "Q3 = df.quantile(0.75)['charges']\n",
    "IQR = Q3 - Q1\n",
    "\n",
    "df_new = df[~((df < (Q1 - 1.5 * IQR)) | (df > (Q3 + 1.5 * IQR))).any(axis=1)]"
   ]
  },
  {
   "cell_type": "markdown",
   "id": "b969c394",
   "metadata": {},
   "source": [
    "Here I am using the standard way in which one removes the outliers of a data set. We can see below that this has reduce the number of rows of data from 1338 to 1199. Note all the outliers are above Q3 + 1.5 IQR."
   ]
  },
  {
   "cell_type": "code",
   "execution_count": 28,
   "id": "7a31d28d",
   "metadata": {},
   "outputs": [
    {
     "data": {
      "text/plain": [
       "age                1199\n",
       "bmi                1199\n",
       "children           1199\n",
       "charges            1199\n",
       "sex_zero_one       1199\n",
       "smoker_zero_one    1199\n",
       "northwest          1199\n",
       "southeast          1199\n",
       "southwest          1199\n",
       "dtype: int64"
      ]
     },
     "execution_count": 28,
     "metadata": {},
     "output_type": "execute_result"
    }
   ],
   "source": [
    "df_new.count()"
   ]
  },
  {
   "cell_type": "code",
   "execution_count": 29,
   "id": "5e133899",
   "metadata": {},
   "outputs": [
    {
     "data": {
      "text/html": [
       "<div>\n",
       "<style scoped>\n",
       "    .dataframe tbody tr th:only-of-type {\n",
       "        vertical-align: middle;\n",
       "    }\n",
       "\n",
       "    .dataframe tbody tr th {\n",
       "        vertical-align: top;\n",
       "    }\n",
       "\n",
       "    .dataframe thead th {\n",
       "        text-align: right;\n",
       "    }\n",
       "</style>\n",
       "<table border=\"1\" class=\"dataframe\">\n",
       "  <thead>\n",
       "    <tr style=\"text-align: right;\">\n",
       "      <th></th>\n",
       "      <th>age</th>\n",
       "      <th>bmi</th>\n",
       "      <th>children</th>\n",
       "      <th>charges</th>\n",
       "      <th>sex_zero_one</th>\n",
       "      <th>smoker_zero_one</th>\n",
       "      <th>northwest</th>\n",
       "      <th>southeast</th>\n",
       "      <th>southwest</th>\n",
       "    </tr>\n",
       "  </thead>\n",
       "  <tbody>\n",
       "    <tr>\n",
       "      <th>0</th>\n",
       "      <td>19</td>\n",
       "      <td>27.900</td>\n",
       "      <td>0</td>\n",
       "      <td>16884.92400</td>\n",
       "      <td>0</td>\n",
       "      <td>1</td>\n",
       "      <td>0</td>\n",
       "      <td>0</td>\n",
       "      <td>1</td>\n",
       "    </tr>\n",
       "    <tr>\n",
       "      <th>1</th>\n",
       "      <td>18</td>\n",
       "      <td>33.770</td>\n",
       "      <td>1</td>\n",
       "      <td>1725.55230</td>\n",
       "      <td>1</td>\n",
       "      <td>0</td>\n",
       "      <td>0</td>\n",
       "      <td>1</td>\n",
       "      <td>0</td>\n",
       "    </tr>\n",
       "    <tr>\n",
       "      <th>2</th>\n",
       "      <td>28</td>\n",
       "      <td>33.000</td>\n",
       "      <td>3</td>\n",
       "      <td>4449.46200</td>\n",
       "      <td>1</td>\n",
       "      <td>0</td>\n",
       "      <td>0</td>\n",
       "      <td>1</td>\n",
       "      <td>0</td>\n",
       "    </tr>\n",
       "    <tr>\n",
       "      <th>3</th>\n",
       "      <td>33</td>\n",
       "      <td>22.705</td>\n",
       "      <td>0</td>\n",
       "      <td>21984.47061</td>\n",
       "      <td>1</td>\n",
       "      <td>0</td>\n",
       "      <td>1</td>\n",
       "      <td>0</td>\n",
       "      <td>0</td>\n",
       "    </tr>\n",
       "    <tr>\n",
       "      <th>4</th>\n",
       "      <td>32</td>\n",
       "      <td>28.880</td>\n",
       "      <td>0</td>\n",
       "      <td>3866.85520</td>\n",
       "      <td>1</td>\n",
       "      <td>0</td>\n",
       "      <td>1</td>\n",
       "      <td>0</td>\n",
       "      <td>0</td>\n",
       "    </tr>\n",
       "  </tbody>\n",
       "</table>\n",
       "</div>"
      ],
      "text/plain": [
       "   age     bmi  children      charges  sex_zero_one  smoker_zero_one  \\\n",
       "0   19  27.900         0  16884.92400             0                1   \n",
       "1   18  33.770         1   1725.55230             1                0   \n",
       "2   28  33.000         3   4449.46200             1                0   \n",
       "3   33  22.705         0  21984.47061             1                0   \n",
       "4   32  28.880         0   3866.85520             1                0   \n",
       "\n",
       "   northwest  southeast  southwest  \n",
       "0          0          0          1  \n",
       "1          0          1          0  \n",
       "2          0          1          0  \n",
       "3          1          0          0  \n",
       "4          1          0          0  "
      ]
     },
     "execution_count": 29,
     "metadata": {},
     "output_type": "execute_result"
    }
   ],
   "source": [
    "df_new.head()"
   ]
  },
  {
   "cell_type": "markdown",
   "id": "e1241170",
   "metadata": {},
   "source": [
    "Now we train the new model"
   ]
  },
  {
   "cell_type": "code",
   "execution_count": 30,
   "id": "d83b8fee",
   "metadata": {},
   "outputs": [],
   "source": [
    "#Spliting the data\n",
    "X = df_new.drop('charges',axis=1)\n",
    "y = df_new['charges']\n",
    "\n",
    "X_train, X_test, y_train, y_test = train_test_split(X, y, test_size=0.3, random_state=101)"
   ]
  },
  {
   "cell_type": "code",
   "execution_count": 31,
   "id": "0022def8",
   "metadata": {},
   "outputs": [],
   "source": [
    "#Making a instance of the model\n",
    "model = LinearRegression()"
   ]
  },
  {
   "cell_type": "code",
   "execution_count": 32,
   "id": "48980f29",
   "metadata": {},
   "outputs": [
    {
     "data": {
      "text/plain": [
       "LinearRegression()"
      ]
     },
     "execution_count": 32,
     "metadata": {},
     "output_type": "execute_result"
    }
   ],
   "source": [
    "#Fit the model to the data\n",
    "model.fit(X_train,y_train)"
   ]
  },
  {
   "cell_type": "code",
   "execution_count": 33,
   "id": "898a03a4",
   "metadata": {},
   "outputs": [],
   "source": [
    "#Making predictions with the model\n",
    "predictions = model.predict(X_test)"
   ]
  },
  {
   "cell_type": "code",
   "execution_count": 34,
   "id": "14f8bc59",
   "metadata": {},
   "outputs": [
    {
     "name": "stdout",
     "output_type": "stream",
     "text": [
      "Mean absolute error:\n",
      "2488.5801199069147\n",
      "Mean squared error:\n",
      "17827851.35261327\n",
      "Square root of Mean squared error:\n",
      "4222.304033654288\n"
     ]
    }
   ],
   "source": [
    "#Metrics of the model\n",
    "print('Mean absolute error:')\n",
    "print(mean_absolute_error(y_test,predictions))\n",
    "print('Mean squared error:' )\n",
    "print(mean_squared_error(y_test,predictions))\n",
    "print('Square root of Mean squared error:' )\n",
    "print(np.sqrt(mean_squared_error(y_test,predictions)))"
   ]
  },
  {
   "cell_type": "code",
   "execution_count": 35,
   "id": "6bb5520b",
   "metadata": {},
   "outputs": [],
   "source": [
    "from sklearn.metrics import explained_variance_score"
   ]
  },
  {
   "cell_type": "code",
   "execution_count": 36,
   "id": "be3b1924",
   "metadata": {},
   "outputs": [
    {
     "data": {
      "text/plain": [
       "0.6236140664255541"
      ]
     },
     "execution_count": 36,
     "metadata": {},
     "output_type": "execute_result"
    }
   ],
   "source": [
    "explained_variance_score(y_test,predictions)"
   ]
  },
  {
   "cell_type": "code",
   "execution_count": 37,
   "id": "4ff130f7",
   "metadata": {},
   "outputs": [
    {
     "data": {
      "text/plain": [
       "[<matplotlib.lines.Line2D at 0x7ff653d2bfa0>]"
      ]
     },
     "execution_count": 37,
     "metadata": {},
     "output_type": "execute_result"
    },
    {
     "data": {
      "image/png": "[encoded data removed]",
      "text/plain": [
       "<Figure size 576x576 with 1 Axes>"
      ]
     },
     "metadata": {
      "needs_background": "light"
     },
     "output_type": "display_data"
    }
   ],
   "source": [
    "plt.figure(figsize=(8,8))\n",
    "plt.scatter(x=y_test,y=predictions)\n",
    "plt.xlabel('y_test')\n",
    "plt.ylabel('predictions')\n",
    "plt.title('Linear Regression')\n",
    "plt.plot(y_test,y_test,color='orange')"
   ]
  },
  {
   "cell_type": "markdown",
   "id": "cd80cd92",
   "metadata": {},
   "source": [
    "Here we see a resonable improvement in the results of the model with a reduction by around 1600 in the mean squared error of the model."
   ]
  },
  {
   "cell_type": "markdown",
   "id": "3f82149c",
   "metadata": {},
   "source": [
    "From here I believe that with more features columns we could imporve the results further and figure out why there are some significant outliers with expensive medical fees. The current model would also be able to imporve with more features. Additionally, we could look to use another model instead of a standard linear regression model to improve our predictions."
   ]
  },
  {
   "cell_type": "markdown",
   "id": "a8e1c9fe",
   "metadata": {},
   "source": [
    "## Deep learning and Neural Networks"
   ]
  },
  {
   "cell_type": "code",
   "execution_count": 38,
   "id": "fe4719ff",
   "metadata": {},
   "outputs": [],
   "source": [
    "X = df_new.drop('charges',axis=1).values\n",
    "y = df_new['charges'].values\n",
    "\n",
    "X_train, X_test, y_train, y_test = train_test_split(X, y, test_size=0.3, random_state=101)"
   ]
  },
  {
   "cell_type": "code",
   "execution_count": 39,
   "id": "f2bf89a7",
   "metadata": {},
   "outputs": [],
   "source": [
    "from sklearn.preprocessing import MinMaxScaler"
   ]
  },
  {
   "cell_type": "code",
   "execution_count": 40,
   "id": "4797bef8",
   "metadata": {},
   "outputs": [],
   "source": [
    "scalar = MinMaxScaler()"
   ]
  },
  {
   "cell_type": "code",
   "execution_count": 41,
   "id": "14c6a6fd",
   "metadata": {},
   "outputs": [],
   "source": [
    "X_train = scalar.fit_transform(X_train)"
   ]
  },
  {
   "cell_type": "code",
   "execution_count": 42,
   "id": "743a853e",
   "metadata": {},
   "outputs": [],
   "source": [
    "X_test = scalar.transform(X_test)"
   ]
  },
  {
   "cell_type": "code",
   "execution_count": 43,
   "id": "94abdeb1",
   "metadata": {},
   "outputs": [],
   "source": [
    "from tensorflow.keras.models import Sequential\n",
    "from tensorflow.keras.layers import Dense"
   ]
  },
  {
   "cell_type": "code",
   "execution_count": 44,
   "id": "eabfab3c",
   "metadata": {},
   "outputs": [
    {
     "data": {
      "text/plain": [
       "(839, 8)"
      ]
     },
     "execution_count": 44,
     "metadata": {},
     "output_type": "execute_result"
    }
   ],
   "source": [
    "X_train.shape"
   ]
  },
  {
   "cell_type": "code",
   "execution_count": 45,
   "id": "d0bdd24f",
   "metadata": {},
   "outputs": [],
   "source": [
    "model = Sequential()\n",
    "\n",
    "model.add(Dense(8,activation='relu'))\n",
    "model.add(Dense(8,activation='relu'))\n",
    "model.add(Dense(8,activation='relu'))\n",
    "model.add(Dense(8,activation='relu'))\n",
    "\n",
    "model.add(Dense(1))\n",
    "\n",
    "model.compile(optimizer='adam',loss='mae')"
   ]
  },
  {
   "cell_type": "code",
   "execution_count": 46,
   "id": "27d22e31",
   "metadata": {},
   "outputs": [
    {
     "name": "stdout",
     "output_type": "stream",
     "text": [
      "Epoch 1/400\n",
      "7/7 [==============================] - 1s 24ms/step - loss: 10042.5342 - val_loss: 9660.4346\n",
      "Epoch 2/400\n",
      "7/7 [==============================] - 0s 5ms/step - loss: 10042.4922 - val_loss: 9660.3975\n",
      "Epoch 3/400\n",
      "7/7 [==============================] - 0s 6ms/step - loss: 10042.4541 - val_loss: 9660.3604\n",
      "Epoch 4/400\n",
      "7/7 [==============================] - 0s 6ms/step - loss: 10042.4180 - val_loss: 9660.3232\n",
      "Epoch 5/400\n",
      "7/7 [==============================] - 0s 7ms/step - loss: 10042.3818 - val_loss: 9660.2861\n",
      "Epoch 6/400\n",
      "7/7 [==============================] - 0s 6ms/step - loss: 10042.3418 - val_loss: 9660.2451\n",
      "Epoch 7/400\n",
      "7/7 [==============================] - 0s 7ms/step - loss: 10042.3018 - val_loss: 9660.2021\n",
      "Epoch 8/400\n",
      "7/7 [==============================] - 0s 6ms/step - loss: 10042.2559 - val_loss: 9660.1553\n",
      "Epoch 9/400\n",
      "7/7 [==============================] - 0s 6ms/step - loss: 10042.2070 - val_loss: 9660.1045\n",
      "Epoch 10/400\n",
      "7/7 [==============================] - 0s 5ms/step - loss: 10042.1523 - val_loss: 9660.0449\n",
      "Epoch 11/400\n",
      "7/7 [==============================] - 0s 5ms/step - loss: 10042.0908 - val_loss: 9659.9746\n",
      "Epoch 12/400\n",
      "7/7 [==============================] - 0s 5ms/step - loss: 10042.0156 - val_loss: 9659.8926\n",
      "Epoch 13/400\n",
      "7/7 [==============================] - 0s 5ms/step - loss: 10041.9277 - val_loss: 9659.7939\n",
      "Epoch 14/400\n",
      "7/7 [==============================] - 0s 5ms/step - loss: 10041.8164 - val_loss: 9659.6680\n",
      "Epoch 15/400\n",
      "7/7 [==============================] - 0s 5ms/step - loss: 10041.6807 - val_loss: 9659.5098\n",
      "Epoch 16/400\n",
      "7/7 [==============================] - 0s 5ms/step - loss: 10041.5049 - val_loss: 9659.3086\n",
      "Epoch 17/400\n",
      "7/7 [==============================] - 0s 5ms/step - loss: 10041.2871 - val_loss: 9659.0605\n",
      "Epoch 18/400\n",
      "7/7 [==============================] - 0s 5ms/step - loss: 10041.0156 - val_loss: 9658.7529\n",
      "Epoch 19/400\n",
      "7/7 [==============================] - 0s 5ms/step - loss: 10040.6865 - val_loss: 9658.3838\n",
      "Epoch 20/400\n",
      "7/7 [==============================] - 0s 5ms/step - loss: 10040.2910 - val_loss: 9657.9434\n",
      "Epoch 21/400\n",
      "7/7 [==============================] - 0s 8ms/step - loss: 10039.8203 - val_loss: 9657.4180\n",
      "Epoch 22/400\n",
      "7/7 [==============================] - 0s 5ms/step - loss: 10039.2588 - val_loss: 9656.7861\n",
      "Epoch 23/400\n",
      "7/7 [==============================] - 0s 5ms/step - loss: 10038.5781 - val_loss: 9656.0264\n",
      "Epoch 24/400\n",
      "7/7 [==============================] - 0s 5ms/step - loss: 10037.7588 - val_loss: 9655.1143\n",
      "Epoch 25/400\n",
      "7/7 [==============================] - 0s 5ms/step - loss: 10036.7832 - val_loss: 9654.0234\n",
      "Epoch 26/400\n",
      "7/7 [==============================] - 0s 5ms/step - loss: 10035.6123 - val_loss: 9652.7266\n",
      "Epoch 27/400\n",
      "7/7 [==============================] - 0s 5ms/step - loss: 10034.2207 - val_loss: 9651.1895\n",
      "Epoch 28/400\n",
      "7/7 [==============================] - 0s 5ms/step - loss: 10032.5732 - val_loss: 9649.3643\n",
      "Epoch 29/400\n",
      "7/7 [==============================] - 0s 5ms/step - loss: 10030.6172 - val_loss: 9647.2031\n",
      "Epoch 30/400\n",
      "7/7 [==============================] - 0s 5ms/step - loss: 10028.3037 - val_loss: 9644.6670\n",
      "Epoch 31/400\n",
      "7/7 [==============================] - 0s 5ms/step - loss: 10025.5879 - val_loss: 9641.7012\n",
      "Epoch 32/400\n",
      "7/7 [==============================] - 0s 5ms/step - loss: 10022.4209 - val_loss: 9638.2383\n",
      "Epoch 33/400\n",
      "7/7 [==============================] - 0s 5ms/step - loss: 10018.7441 - val_loss: 9634.2344\n",
      "Epoch 34/400\n",
      "7/7 [==============================] - 0s 5ms/step - loss: 10014.5029 - val_loss: 9629.6289\n",
      "Epoch 35/400\n",
      "7/7 [==============================] - 0s 5ms/step - loss: 10009.6045 - val_loss: 9624.3779\n",
      "Epoch 36/400\n",
      "7/7 [==============================] - 0s 5ms/step - loss: 10004.0537 - val_loss: 9618.3955\n",
      "Epoch 37/400\n",
      "7/7 [==============================] - 0s 5ms/step - loss: 9997.7354 - val_loss: 9611.6279\n",
      "Epoch 38/400\n",
      "7/7 [==============================] - 0s 5ms/step - loss: 9990.6074 - val_loss: 9603.9863\n",
      "Epoch 39/400\n",
      "7/7 [==============================] - 0s 5ms/step - loss: 9982.5879 - val_loss: 9595.4180\n",
      "Epoch 40/400\n",
      "7/7 [==============================] - 0s 5ms/step - loss: 9973.5498 - val_loss: 9585.8389\n",
      "Epoch 41/400\n",
      "7/7 [==============================] - 0s 5ms/step - loss: 9963.4854 - val_loss: 9575.1152\n",
      "Epoch 42/400\n",
      "7/7 [==============================] - 0s 5ms/step - loss: 9952.2676 - val_loss: 9563.1748\n",
      "Epoch 43/400\n",
      "7/7 [==============================] - 0s 5ms/step - loss: 9939.7080 - val_loss: 9549.9316\n",
      "Epoch 44/400\n",
      "7/7 [==============================] - 0s 5ms/step - loss: 9925.8301 - val_loss: 9535.2275\n",
      "Epoch 45/400\n",
      "7/7 [==============================] - 0s 5ms/step - loss: 9910.4531 - val_loss: 9518.9629\n",
      "Epoch 46/400\n",
      "7/7 [==============================] - 0s 5ms/step - loss: 9893.4590 - val_loss: 9501.0205\n",
      "Epoch 47/400\n",
      "7/7 [==============================] - 0s 5ms/step - loss: 9874.7402 - val_loss: 9481.2812\n",
      "Epoch 48/400\n",
      "7/7 [==============================] - 0s 5ms/step - loss: 9854.0625 - val_loss: 9459.6836\n",
      "Epoch 49/400\n",
      "7/7 [==============================] - 0s 5ms/step - loss: 9831.4492 - val_loss: 9436.0781\n",
      "Epoch 50/400\n",
      "7/7 [==============================] - 0s 5ms/step - loss: 9806.6904 - val_loss: 9410.3262\n",
      "Epoch 51/400\n",
      "7/7 [==============================] - 0s 5ms/step - loss: 9779.8750 - val_loss: 9382.1904\n",
      "Epoch 52/400\n",
      "7/7 [==============================] - 0s 5ms/step - loss: 9750.6338 - val_loss: 9351.5928\n",
      "Epoch 53/400\n",
      "7/7 [==============================] - 0s 6ms/step - loss: 9718.7822 - val_loss: 9318.4365\n",
      "Epoch 54/400\n",
      "7/7 [==============================] - 0s 5ms/step - loss: 9684.2461 - val_loss: 9282.5518\n",
      "Epoch 55/400\n",
      "7/7 [==============================] - 0s 5ms/step - loss: 9647.1084 - val_loss: 9243.7012\n",
      "Epoch 56/400\n",
      "7/7 [==============================] - 0s 5ms/step - loss: 9606.5654 - val_loss: 9201.9238\n",
      "Epoch 57/400\n",
      "7/7 [==============================] - 0s 5ms/step - loss: 9563.2559 - val_loss: 9156.7695\n",
      "Epoch 58/400\n",
      "7/7 [==============================] - 0s 5ms/step - loss: 9516.1553 - val_loss: 9108.2939\n",
      "Epoch 59/400\n",
      "7/7 [==============================] - 0s 4ms/step - loss: 9465.9102 - val_loss: 9056.1348\n",
      "Epoch 60/400\n",
      "7/7 [==============================] - 0s 5ms/step - loss: 9411.8369 - val_loss: 9000.2129\n",
      "Epoch 61/400\n",
      "7/7 [==============================] - 0s 4ms/step - loss: 9353.9473 - val_loss: 8940.2822\n",
      "Epoch 62/400\n",
      "7/7 [==============================] - 0s 5ms/step - loss: 9291.5439 - val_loss: 8876.2920\n",
      "Epoch 63/400\n",
      "7/7 [==============================] - 0s 5ms/step - loss: 9225.2588 - val_loss: 8807.7822\n",
      "Epoch 64/400\n",
      "7/7 [==============================] - 0s 5ms/step - loss: 9154.2598 - val_loss: 8734.5986\n",
      "Epoch 65/400\n",
      "7/7 [==============================] - 0s 4ms/step - loss: 9078.6064 - val_loss: 8656.5088\n",
      "Epoch 66/400\n",
      "7/7 [==============================] - 0s 4ms/step - loss: 8997.7168 - val_loss: 8573.4150\n",
      "Epoch 67/400\n",
      "7/7 [==============================] - 0s 5ms/step - loss: 8911.7861 - val_loss: 8485.0703\n",
      "Epoch 68/400\n",
      "7/7 [==============================] - 0s 5ms/step - loss: 8820.3438 - val_loss: 8391.2080\n",
      "Epoch 69/400\n",
      "7/7 [==============================] - 0s 5ms/step - loss: 8723.7129 - val_loss: 8293.7227\n",
      "Epoch 70/400\n",
      "7/7 [==============================] - 0s 5ms/step - loss: 8622.9609 - val_loss: 8192.9443\n",
      "Epoch 71/400\n",
      "7/7 [==============================] - 0s 5ms/step - loss: 8517.8711 - val_loss: 8087.4126\n",
      "Epoch 72/400\n",
      "7/7 [==============================] - 0s 4ms/step - loss: 8406.5498 - val_loss: 7979.3613\n",
      "Epoch 73/400\n",
      "7/7 [==============================] - 0s 5ms/step - loss: 8291.9883 - val_loss: 7866.8882\n",
      "Epoch 74/400\n",
      "7/7 [==============================] - 0s 5ms/step - loss: 8172.7676 - val_loss: 7750.9897\n",
      "Epoch 75/400\n",
      "7/7 [==============================] - 0s 5ms/step - loss: 8051.9292 - val_loss: 7631.1338\n",
      "Epoch 76/400\n",
      "7/7 [==============================] - 0s 5ms/step - loss: 7927.1387 - val_loss: 7508.9116\n",
      "Epoch 77/400\n",
      "7/7 [==============================] - 0s 5ms/step - loss: 7800.8403 - val_loss: 7381.5752\n",
      "Epoch 78/400\n",
      "7/7 [==============================] - 0s 5ms/step - loss: 7669.4507 - val_loss: 7252.6797\n",
      "Epoch 79/400\n"
     ]
    },
    {
     "name": "stdout",
     "output_type": "stream",
     "text": [
      "7/7 [==============================] - 0s 5ms/step - loss: 7536.2456 - val_loss: 7122.8433\n",
      "Epoch 80/400\n",
      "7/7 [==============================] - 0s 5ms/step - loss: 7404.0083 - val_loss: 6992.3516\n",
      "Epoch 81/400\n",
      "7/7 [==============================] - 0s 5ms/step - loss: 7267.0010 - val_loss: 6866.0972\n",
      "Epoch 82/400\n",
      "7/7 [==============================] - 0s 5ms/step - loss: 7133.5840 - val_loss: 6738.6919\n",
      "Epoch 83/400\n",
      "7/7 [==============================] - 0s 5ms/step - loss: 6997.7793 - val_loss: 6609.7290\n",
      "Epoch 84/400\n",
      "7/7 [==============================] - 0s 7ms/step - loss: 6861.8647 - val_loss: 6481.6626\n",
      "Epoch 85/400\n",
      "7/7 [==============================] - 0s 4ms/step - loss: 6725.4194 - val_loss: 6355.8589\n",
      "Epoch 86/400\n",
      "7/7 [==============================] - 0s 5ms/step - loss: 6588.7437 - val_loss: 6236.1479\n",
      "Epoch 87/400\n",
      "7/7 [==============================] - 0s 5ms/step - loss: 6455.4375 - val_loss: 6115.9912\n",
      "Epoch 88/400\n",
      "7/7 [==============================] - 0s 5ms/step - loss: 6324.4521 - val_loss: 5996.2554\n",
      "Epoch 89/400\n",
      "7/7 [==============================] - 0s 5ms/step - loss: 6198.3970 - val_loss: 5881.9263\n",
      "Epoch 90/400\n",
      "7/7 [==============================] - 0s 5ms/step - loss: 6076.4683 - val_loss: 5775.7500\n",
      "Epoch 91/400\n",
      "7/7 [==============================] - 0s 4ms/step - loss: 5963.7866 - val_loss: 5669.2998\n",
      "Epoch 92/400\n",
      "7/7 [==============================] - 0s 5ms/step - loss: 5850.6763 - val_loss: 5565.4419\n",
      "Epoch 93/400\n",
      "7/7 [==============================] - 0s 5ms/step - loss: 5747.8267 - val_loss: 5466.3110\n",
      "Epoch 94/400\n",
      "7/7 [==============================] - 0s 5ms/step - loss: 5655.8916 - val_loss: 5375.8071\n",
      "Epoch 95/400\n",
      "7/7 [==============================] - 0s 5ms/step - loss: 5572.8462 - val_loss: 5297.7603\n",
      "Epoch 96/400\n",
      "7/7 [==============================] - 0s 5ms/step - loss: 5504.4424 - val_loss: 5226.6689\n",
      "Epoch 97/400\n",
      "7/7 [==============================] - 0s 4ms/step - loss: 5440.4727 - val_loss: 5160.8247\n",
      "Epoch 98/400\n",
      "7/7 [==============================] - 0s 4ms/step - loss: 5382.0034 - val_loss: 5101.1992\n",
      "Epoch 99/400\n",
      "7/7 [==============================] - 0s 4ms/step - loss: 5326.0649 - val_loss: 5049.8418\n",
      "Epoch 100/400\n",
      "7/7 [==============================] - 0s 5ms/step - loss: 5278.1099 - val_loss: 5000.4272\n",
      "Epoch 101/400\n",
      "7/7 [==============================] - 0s 4ms/step - loss: 5227.6362 - val_loss: 4958.1558\n",
      "Epoch 102/400\n",
      "7/7 [==============================] - 0s 5ms/step - loss: 5187.9292 - val_loss: 4917.6626\n",
      "Epoch 103/400\n",
      "7/7 [==============================] - 0s 4ms/step - loss: 5150.4912 - val_loss: 4880.4868\n",
      "Epoch 104/400\n",
      "7/7 [==============================] - 0s 5ms/step - loss: 5114.4888 - val_loss: 4848.4658\n",
      "Epoch 105/400\n",
      "7/7 [==============================] - 0s 4ms/step - loss: 5081.3892 - val_loss: 4819.0850\n",
      "Epoch 106/400\n",
      "7/7 [==============================] - 0s 4ms/step - loss: 5054.8789 - val_loss: 4794.0054\n",
      "Epoch 107/400\n",
      "7/7 [==============================] - 0s 4ms/step - loss: 5032.3154 - val_loss: 4773.5908\n",
      "Epoch 108/400\n",
      "7/7 [==============================] - 0s 4ms/step - loss: 5012.0630 - val_loss: 4756.5845\n",
      "Epoch 109/400\n",
      "7/7 [==============================] - 0s 4ms/step - loss: 4996.5923 - val_loss: 4740.7183\n",
      "Epoch 110/400\n",
      "7/7 [==============================] - 0s 4ms/step - loss: 4980.2734 - val_loss: 4726.6021\n",
      "Epoch 111/400\n",
      "7/7 [==============================] - 0s 4ms/step - loss: 4965.6138 - val_loss: 4713.3540\n",
      "Epoch 112/400\n",
      "7/7 [==============================] - 0s 4ms/step - loss: 4950.7007 - val_loss: 4702.5352\n",
      "Epoch 113/400\n",
      "7/7 [==============================] - 0s 4ms/step - loss: 4936.3687 - val_loss: 4693.3584\n",
      "Epoch 114/400\n",
      "7/7 [==============================] - 0s 4ms/step - loss: 4923.3823 - val_loss: 4684.2568\n",
      "Epoch 115/400\n",
      "7/7 [==============================] - 0s 5ms/step - loss: 4911.8657 - val_loss: 4675.2139\n",
      "Epoch 116/400\n",
      "7/7 [==============================] - 0s 4ms/step - loss: 4900.4160 - val_loss: 4666.7300\n",
      "Epoch 117/400\n",
      "7/7 [==============================] - 0s 4ms/step - loss: 4889.3066 - val_loss: 4658.6714\n",
      "Epoch 118/400\n",
      "7/7 [==============================] - 0s 5ms/step - loss: 4881.6309 - val_loss: 4650.3379\n",
      "Epoch 119/400\n",
      "7/7 [==============================] - 0s 5ms/step - loss: 4871.5425 - val_loss: 4642.4087\n",
      "Epoch 120/400\n",
      "7/7 [==============================] - 0s 4ms/step - loss: 4863.0029 - val_loss: 4634.7280\n",
      "Epoch 121/400\n",
      "7/7 [==============================] - 0s 4ms/step - loss: 4855.1719 - val_loss: 4627.2534\n",
      "Epoch 122/400\n",
      "7/7 [==============================] - 0s 4ms/step - loss: 4846.9414 - val_loss: 4619.9717\n",
      "Epoch 123/400\n",
      "7/7 [==============================] - 0s 5ms/step - loss: 4839.0845 - val_loss: 4612.7544\n",
      "Epoch 124/400\n",
      "7/7 [==============================] - 0s 4ms/step - loss: 4832.2090 - val_loss: 4605.4619\n",
      "Epoch 125/400\n",
      "7/7 [==============================] - 0s 4ms/step - loss: 4823.9004 - val_loss: 4598.2554\n",
      "Epoch 126/400\n",
      "7/7 [==============================] - 0s 4ms/step - loss: 4815.5557 - val_loss: 4591.1631\n",
      "Epoch 127/400\n",
      "7/7 [==============================] - 0s 4ms/step - loss: 4808.0493 - val_loss: 4584.0234\n",
      "Epoch 128/400\n",
      "7/7 [==============================] - 0s 4ms/step - loss: 4800.6465 - val_loss: 4576.8945\n",
      "Epoch 129/400\n",
      "7/7 [==============================] - 0s 5ms/step - loss: 4792.8862 - val_loss: 4569.3730\n",
      "Epoch 130/400\n",
      "7/7 [==============================] - 0s 5ms/step - loss: 4785.2627 - val_loss: 4562.0972\n",
      "Epoch 131/400\n",
      "7/7 [==============================] - 0s 5ms/step - loss: 4777.8145 - val_loss: 4554.7988\n",
      "Epoch 132/400\n",
      "7/7 [==============================] - 0s 5ms/step - loss: 4770.1597 - val_loss: 4547.1240\n",
      "Epoch 133/400\n",
      "7/7 [==============================] - 0s 5ms/step - loss: 4762.2803 - val_loss: 4539.7808\n",
      "Epoch 134/400\n",
      "7/7 [==============================] - 0s 5ms/step - loss: 4754.4438 - val_loss: 4532.6299\n",
      "Epoch 135/400\n",
      "7/7 [==============================] - 0s 5ms/step - loss: 4746.8066 - val_loss: 4525.4463\n",
      "Epoch 136/400\n",
      "7/7 [==============================] - 0s 4ms/step - loss: 4738.9497 - val_loss: 4517.8945\n",
      "Epoch 137/400\n",
      "7/7 [==============================] - 0s 5ms/step - loss: 4731.3164 - val_loss: 4510.5630\n",
      "Epoch 138/400\n",
      "7/7 [==============================] - 0s 4ms/step - loss: 4723.2373 - val_loss: 4503.1299\n",
      "Epoch 139/400\n",
      "7/7 [==============================] - 0s 5ms/step - loss: 4715.3071 - val_loss: 4495.8179\n",
      "Epoch 140/400\n",
      "7/7 [==============================] - 0s 5ms/step - loss: 4707.5508 - val_loss: 4488.3672\n",
      "Epoch 141/400\n",
      "7/7 [==============================] - 0s 5ms/step - loss: 4699.7358 - val_loss: 4481.0854\n",
      "Epoch 142/400\n",
      "7/7 [==============================] - 0s 5ms/step - loss: 4691.7671 - val_loss: 4473.1895\n",
      "Epoch 143/400\n",
      "7/7 [==============================] - 0s 4ms/step - loss: 4683.7529 - val_loss: 4465.2676\n",
      "Epoch 144/400\n",
      "7/7 [==============================] - 0s 4ms/step - loss: 4675.9165 - val_loss: 4457.7021\n",
      "Epoch 145/400\n",
      "7/7 [==============================] - 0s 5ms/step - loss: 4667.5957 - val_loss: 4449.9238\n",
      "Epoch 146/400\n",
      "7/7 [==============================] - 0s 5ms/step - loss: 4659.4546 - val_loss: 4441.9600\n",
      "Epoch 147/400\n",
      "7/7 [==============================] - 0s 5ms/step - loss: 4651.3896 - val_loss: 4434.0327\n",
      "Epoch 148/400\n",
      "7/7 [==============================] - 0s 5ms/step - loss: 4643.2832 - val_loss: 4425.9927\n",
      "Epoch 149/400\n",
      "7/7 [==============================] - 0s 5ms/step - loss: 4634.9111 - val_loss: 4418.0811\n",
      "Epoch 150/400\n",
      "7/7 [==============================] - 0s 5ms/step - loss: 4626.6621 - val_loss: 4410.1250\n",
      "Epoch 151/400\n",
      "7/7 [==============================] - 0s 5ms/step - loss: 4618.6382 - val_loss: 4402.0112\n",
      "Epoch 152/400\n",
      "7/7 [==============================] - 0s 5ms/step - loss: 4610.7676 - val_loss: 4393.4438\n",
      "Epoch 153/400\n",
      "7/7 [==============================] - 0s 5ms/step - loss: 4602.0083 - val_loss: 4385.6328\n",
      "Epoch 154/400\n",
      "7/7 [==============================] - 0s 5ms/step - loss: 4594.1562 - val_loss: 4378.0537\n",
      "Epoch 155/400\n",
      "7/7 [==============================] - 0s 5ms/step - loss: 4585.6729 - val_loss: 4369.4106\n",
      "Epoch 156/400\n",
      "7/7 [==============================] - 0s 4ms/step - loss: 4576.9458 - val_loss: 4361.2769\n",
      "Epoch 157/400\n"
     ]
    },
    {
     "name": "stdout",
     "output_type": "stream",
     "text": [
      "7/7 [==============================] - 0s 5ms/step - loss: 4568.3140 - val_loss: 4353.4033\n",
      "Epoch 158/400\n",
      "7/7 [==============================] - 0s 4ms/step - loss: 4559.6729 - val_loss: 4345.1104\n",
      "Epoch 159/400\n",
      "7/7 [==============================] - 0s 5ms/step - loss: 4551.7124 - val_loss: 4337.2290\n",
      "Epoch 160/400\n",
      "7/7 [==============================] - 0s 8ms/step - loss: 4542.1274 - val_loss: 4328.6646\n",
      "Epoch 161/400\n",
      "7/7 [==============================] - 0s 5ms/step - loss: 4533.9858 - val_loss: 4319.6284\n",
      "Epoch 162/400\n",
      "7/7 [==============================] - 0s 5ms/step - loss: 4524.9092 - val_loss: 4311.1973\n",
      "Epoch 163/400\n",
      "7/7 [==============================] - 0s 4ms/step - loss: 4516.3140 - val_loss: 4302.7261\n",
      "Epoch 164/400\n",
      "7/7 [==============================] - 0s 4ms/step - loss: 4507.5000 - val_loss: 4293.5630\n",
      "Epoch 165/400\n",
      "7/7 [==============================] - 0s 4ms/step - loss: 4498.1362 - val_loss: 4284.9800\n",
      "Epoch 166/400\n",
      "7/7 [==============================] - 0s 5ms/step - loss: 4489.2568 - val_loss: 4276.1211\n",
      "Epoch 167/400\n",
      "7/7 [==============================] - 0s 4ms/step - loss: 4480.2109 - val_loss: 4267.3721\n",
      "Epoch 168/400\n",
      "7/7 [==============================] - 0s 5ms/step - loss: 4471.0693 - val_loss: 4258.5991\n",
      "Epoch 169/400\n",
      "7/7 [==============================] - 0s 5ms/step - loss: 4461.8481 - val_loss: 4249.2061\n",
      "Epoch 170/400\n",
      "7/7 [==============================] - 0s 5ms/step - loss: 4452.2974 - val_loss: 4240.2808\n",
      "Epoch 171/400\n",
      "7/7 [==============================] - 0s 5ms/step - loss: 4443.2358 - val_loss: 4231.2661\n",
      "Epoch 172/400\n",
      "7/7 [==============================] - 0s 4ms/step - loss: 4433.8179 - val_loss: 4221.9971\n",
      "Epoch 173/400\n",
      "7/7 [==============================] - 0s 4ms/step - loss: 4424.2261 - val_loss: 4212.4004\n",
      "Epoch 174/400\n",
      "7/7 [==============================] - 0s 4ms/step - loss: 4414.3291 - val_loss: 4203.2241\n",
      "Epoch 175/400\n",
      "7/7 [==============================] - 0s 4ms/step - loss: 4404.9370 - val_loss: 4193.8853\n",
      "Epoch 176/400\n",
      "7/7 [==============================] - 0s 4ms/step - loss: 4395.0117 - val_loss: 4184.1138\n",
      "Epoch 177/400\n",
      "7/7 [==============================] - 0s 4ms/step - loss: 4385.2285 - val_loss: 4174.1328\n",
      "Epoch 178/400\n",
      "7/7 [==============================] - 0s 5ms/step - loss: 4375.0547 - val_loss: 4164.4658\n",
      "Epoch 179/400\n",
      "7/7 [==============================] - 0s 5ms/step - loss: 4365.5239 - val_loss: 4155.0137\n",
      "Epoch 180/400\n",
      "7/7 [==============================] - 0s 5ms/step - loss: 4354.7002 - val_loss: 4144.9292\n",
      "Epoch 181/400\n",
      "7/7 [==============================] - 0s 5ms/step - loss: 4344.2231 - val_loss: 4134.7422\n",
      "Epoch 182/400\n",
      "7/7 [==============================] - 0s 5ms/step - loss: 4333.8921 - val_loss: 4124.2109\n",
      "Epoch 183/400\n",
      "7/7 [==============================] - 0s 4ms/step - loss: 4323.5918 - val_loss: 4113.9619\n",
      "Epoch 184/400\n",
      "7/7 [==============================] - 0s 5ms/step - loss: 4312.6509 - val_loss: 4103.3623\n",
      "Epoch 185/400\n",
      "7/7 [==============================] - 0s 5ms/step - loss: 4302.8130 - val_loss: 4093.2222\n",
      "Epoch 186/400\n",
      "7/7 [==============================] - 0s 5ms/step - loss: 4291.3618 - val_loss: 4082.2937\n",
      "Epoch 187/400\n",
      "7/7 [==============================] - 0s 5ms/step - loss: 4280.3413 - val_loss: 4071.7185\n",
      "Epoch 188/400\n",
      "7/7 [==============================] - 0s 4ms/step - loss: 4269.4692 - val_loss: 4061.0278\n",
      "Epoch 189/400\n",
      "7/7 [==============================] - 0s 4ms/step - loss: 4258.4507 - val_loss: 4050.2070\n",
      "Epoch 190/400\n",
      "7/7 [==============================] - 0s 5ms/step - loss: 4246.9912 - val_loss: 4039.1399\n",
      "Epoch 191/400\n",
      "7/7 [==============================] - 0s 5ms/step - loss: 4236.1685 - val_loss: 4027.7097\n",
      "Epoch 192/400\n",
      "7/7 [==============================] - 0s 5ms/step - loss: 4224.6182 - val_loss: 4016.6375\n",
      "Epoch 193/400\n",
      "7/7 [==============================] - 0s 5ms/step - loss: 4213.0000 - val_loss: 4005.3313\n",
      "Epoch 194/400\n",
      "7/7 [==============================] - 0s 4ms/step - loss: 4201.5293 - val_loss: 3993.7444\n",
      "Epoch 195/400\n",
      "7/7 [==============================] - 0s 5ms/step - loss: 4189.8438 - val_loss: 3982.2407\n",
      "Epoch 196/400\n",
      "7/7 [==============================] - 0s 5ms/step - loss: 4177.9165 - val_loss: 3970.0847\n",
      "Epoch 197/400\n",
      "7/7 [==============================] - 0s 5ms/step - loss: 4165.4863 - val_loss: 3958.3052\n",
      "Epoch 198/400\n",
      "7/7 [==============================] - 0s 5ms/step - loss: 4153.2393 - val_loss: 3946.5088\n",
      "Epoch 199/400\n",
      "7/7 [==============================] - 0s 6ms/step - loss: 4141.3057 - val_loss: 3934.3374\n",
      "Epoch 200/400\n",
      "7/7 [==============================] - 0s 6ms/step - loss: 4128.6733 - val_loss: 3921.6873\n",
      "Epoch 201/400\n",
      "7/7 [==============================] - 0s 4ms/step - loss: 4115.9536 - val_loss: 3908.8945\n",
      "Epoch 202/400\n",
      "7/7 [==============================] - 0s 5ms/step - loss: 4103.3198 - val_loss: 3896.0913\n",
      "Epoch 203/400\n",
      "7/7 [==============================] - 0s 5ms/step - loss: 4090.5930 - val_loss: 3883.1716\n",
      "Epoch 204/400\n",
      "7/7 [==============================] - 0s 5ms/step - loss: 4077.5112 - val_loss: 3869.8035\n",
      "Epoch 205/400\n",
      "7/7 [==============================] - 0s 5ms/step - loss: 4064.4363 - val_loss: 3856.7590\n",
      "Epoch 206/400\n",
      "7/7 [==============================] - 0s 5ms/step - loss: 4050.8999 - val_loss: 3843.7278\n",
      "Epoch 207/400\n",
      "7/7 [==============================] - 0s 5ms/step - loss: 4037.4600 - val_loss: 3830.6201\n",
      "Epoch 208/400\n",
      "7/7 [==============================] - 0s 5ms/step - loss: 4023.7910 - val_loss: 3817.1340\n",
      "Epoch 209/400\n",
      "7/7 [==============================] - 0s 5ms/step - loss: 4010.5667 - val_loss: 3803.6431\n",
      "Epoch 210/400\n",
      "7/7 [==============================] - 0s 4ms/step - loss: 3996.3352 - val_loss: 3789.5386\n",
      "Epoch 211/400\n",
      "7/7 [==============================] - 0s 5ms/step - loss: 3982.3162 - val_loss: 3775.5093\n",
      "Epoch 212/400\n",
      "7/7 [==============================] - 0s 4ms/step - loss: 3967.6699 - val_loss: 3761.8132\n",
      "Epoch 213/400\n",
      "7/7 [==============================] - 0s 4ms/step - loss: 3953.2246 - val_loss: 3747.4102\n",
      "Epoch 214/400\n",
      "7/7 [==============================] - 0s 4ms/step - loss: 3938.7708 - val_loss: 3733.2263\n",
      "Epoch 215/400\n",
      "7/7 [==============================] - 0s 4ms/step - loss: 3923.4900 - val_loss: 3717.9885\n",
      "Epoch 216/400\n",
      "7/7 [==============================] - 0s 4ms/step - loss: 3908.3591 - val_loss: 3702.8633\n",
      "Epoch 217/400\n",
      "7/7 [==============================] - 0s 4ms/step - loss: 3892.7761 - val_loss: 3687.5593\n",
      "Epoch 218/400\n",
      "7/7 [==============================] - 0s 4ms/step - loss: 3877.2646 - val_loss: 3672.1313\n",
      "Epoch 219/400\n",
      "7/7 [==============================] - 0s 4ms/step - loss: 3861.1216 - val_loss: 3656.6216\n",
      "Epoch 220/400\n",
      "7/7 [==============================] - 0s 4ms/step - loss: 3845.2842 - val_loss: 3639.9341\n",
      "Epoch 221/400\n",
      "7/7 [==============================] - 0s 4ms/step - loss: 3829.1082 - val_loss: 3623.2000\n",
      "Epoch 222/400\n",
      "7/7 [==============================] - 0s 4ms/step - loss: 3812.1738 - val_loss: 3606.9719\n",
      "Epoch 223/400\n",
      "7/7 [==============================] - 0s 4ms/step - loss: 3795.8416 - val_loss: 3590.4348\n",
      "Epoch 224/400\n",
      "7/7 [==============================] - 0s 4ms/step - loss: 3778.6477 - val_loss: 3573.7527\n",
      "Epoch 225/400\n",
      "7/7 [==============================] - 0s 4ms/step - loss: 3761.8347 - val_loss: 3556.6084\n",
      "Epoch 226/400\n",
      "7/7 [==============================] - 0s 4ms/step - loss: 3744.2627 - val_loss: 3539.2000\n",
      "Epoch 227/400\n",
      "7/7 [==============================] - 0s 5ms/step - loss: 3726.2446 - val_loss: 3521.4829\n",
      "Epoch 228/400\n",
      "7/7 [==============================] - 0s 4ms/step - loss: 3708.1985 - val_loss: 3504.1138\n",
      "Epoch 229/400\n",
      "7/7 [==============================] - 0s 4ms/step - loss: 3689.2861 - val_loss: 3486.6775\n",
      "Epoch 230/400\n",
      "7/7 [==============================] - 0s 4ms/step - loss: 3672.0693 - val_loss: 3469.7095\n",
      "Epoch 231/400\n",
      "7/7 [==============================] - 0s 5ms/step - loss: 3652.1140 - val_loss: 3450.0657\n",
      "Epoch 232/400\n",
      "7/7 [==============================] - 0s 4ms/step - loss: 3632.2830 - val_loss: 3430.1941\n",
      "Epoch 233/400\n",
      "7/7 [==============================] - 0s 4ms/step - loss: 3613.1301 - val_loss: 3410.6416\n",
      "Epoch 234/400\n",
      "7/7 [==============================] - 0s 4ms/step - loss: 3593.0366 - val_loss: 3390.5566\n",
      "Epoch 235/400\n"
     ]
    },
    {
     "name": "stdout",
     "output_type": "stream",
     "text": [
      "7/7 [==============================] - 0s 4ms/step - loss: 3572.9585 - val_loss: 3369.8242\n",
      "Epoch 236/400\n",
      "7/7 [==============================] - 0s 5ms/step - loss: 3552.6523 - val_loss: 3348.9702\n",
      "Epoch 237/400\n",
      "7/7 [==============================] - 0s 4ms/step - loss: 3531.6326 - val_loss: 3328.1611\n",
      "Epoch 238/400\n",
      "7/7 [==============================] - 0s 5ms/step - loss: 3510.3667 - val_loss: 3307.0920\n",
      "Epoch 239/400\n",
      "7/7 [==============================] - 0s 4ms/step - loss: 3488.9336 - val_loss: 3285.2075\n",
      "Epoch 240/400\n",
      "7/7 [==============================] - 0s 5ms/step - loss: 3467.3779 - val_loss: 3262.5730\n",
      "Epoch 241/400\n",
      "7/7 [==============================] - 0s 5ms/step - loss: 3444.7566 - val_loss: 3239.9094\n",
      "Epoch 242/400\n",
      "7/7 [==============================] - 0s 4ms/step - loss: 3422.1821 - val_loss: 3217.3257\n",
      "Epoch 243/400\n",
      "7/7 [==============================] - 0s 4ms/step - loss: 3399.6152 - val_loss: 3193.4111\n",
      "Epoch 244/400\n",
      "7/7 [==============================] - 0s 4ms/step - loss: 3376.4050 - val_loss: 3168.8188\n",
      "Epoch 245/400\n",
      "7/7 [==============================] - 0s 4ms/step - loss: 3352.3906 - val_loss: 3144.6199\n",
      "Epoch 246/400\n",
      "7/7 [==============================] - 0s 4ms/step - loss: 3328.4429 - val_loss: 3119.7966\n",
      "Epoch 247/400\n",
      "7/7 [==============================] - 0s 4ms/step - loss: 3304.2429 - val_loss: 3095.0215\n",
      "Epoch 248/400\n",
      "7/7 [==============================] - 0s 4ms/step - loss: 3279.4910 - val_loss: 3070.0549\n",
      "Epoch 249/400\n",
      "7/7 [==============================] - 0s 4ms/step - loss: 3254.4158 - val_loss: 3044.4722\n",
      "Epoch 250/400\n",
      "7/7 [==============================] - 0s 4ms/step - loss: 3229.0112 - val_loss: 3018.0681\n",
      "Epoch 251/400\n",
      "7/7 [==============================] - 0s 5ms/step - loss: 3202.7812 - val_loss: 2992.7358\n",
      "Epoch 252/400\n",
      "7/7 [==============================] - 0s 4ms/step - loss: 3175.5488 - val_loss: 2966.0483\n",
      "Epoch 253/400\n",
      "7/7 [==============================] - 0s 4ms/step - loss: 3149.0247 - val_loss: 2937.6980\n",
      "Epoch 254/400\n",
      "7/7 [==============================] - 0s 7ms/step - loss: 3121.3374 - val_loss: 2909.2678\n",
      "Epoch 255/400\n",
      "7/7 [==============================] - 0s 4ms/step - loss: 3093.8271 - val_loss: 2881.0554\n",
      "Epoch 256/400\n",
      "7/7 [==============================] - 0s 4ms/step - loss: 3064.9353 - val_loss: 2853.0713\n",
      "Epoch 257/400\n",
      "7/7 [==============================] - 0s 4ms/step - loss: 3036.9211 - val_loss: 2824.3447\n",
      "Epoch 258/400\n",
      "7/7 [==============================] - 0s 4ms/step - loss: 3007.6282 - val_loss: 2795.1960\n",
      "Epoch 259/400\n",
      "7/7 [==============================] - 0s 4ms/step - loss: 2978.2815 - val_loss: 2766.1743\n",
      "Epoch 260/400\n",
      "7/7 [==============================] - 0s 4ms/step - loss: 2948.4238 - val_loss: 2736.2771\n",
      "Epoch 261/400\n",
      "7/7 [==============================] - 0s 4ms/step - loss: 2918.0964 - val_loss: 2706.2507\n",
      "Epoch 262/400\n",
      "7/7 [==============================] - 0s 4ms/step - loss: 2887.6440 - val_loss: 2675.2410\n",
      "Epoch 263/400\n",
      "7/7 [==============================] - 0s 4ms/step - loss: 2857.2144 - val_loss: 2642.8674\n",
      "Epoch 264/400\n",
      "7/7 [==============================] - 0s 4ms/step - loss: 2825.8313 - val_loss: 2610.3564\n",
      "Epoch 265/400\n",
      "7/7 [==============================] - 0s 4ms/step - loss: 2793.7612 - val_loss: 2577.9497\n",
      "Epoch 266/400\n",
      "7/7 [==============================] - 0s 4ms/step - loss: 2761.6282 - val_loss: 2545.2581\n",
      "Epoch 267/400\n",
      "7/7 [==============================] - 0s 5ms/step - loss: 2730.1843 - val_loss: 2512.6079\n",
      "Epoch 268/400\n",
      "7/7 [==============================] - 0s 4ms/step - loss: 2697.8123 - val_loss: 2479.9919\n",
      "Epoch 269/400\n",
      "7/7 [==============================] - 0s 5ms/step - loss: 2665.0933 - val_loss: 2446.0117\n",
      "Epoch 270/400\n",
      "7/7 [==============================] - 0s 4ms/step - loss: 2632.0364 - val_loss: 2412.2600\n",
      "Epoch 271/400\n",
      "7/7 [==============================] - 0s 5ms/step - loss: 2599.4397 - val_loss: 2378.1511\n",
      "Epoch 272/400\n",
      "7/7 [==============================] - 0s 5ms/step - loss: 2566.5310 - val_loss: 2343.5203\n",
      "Epoch 273/400\n",
      "7/7 [==============================] - 0s 4ms/step - loss: 2533.7336 - val_loss: 2310.1565\n",
      "Epoch 274/400\n",
      "7/7 [==============================] - 0s 4ms/step - loss: 2500.8706 - val_loss: 2279.5112\n",
      "Epoch 275/400\n",
      "7/7 [==============================] - 0s 4ms/step - loss: 2469.4111 - val_loss: 2247.5911\n",
      "Epoch 276/400\n",
      "7/7 [==============================] - 0s 4ms/step - loss: 2436.3301 - val_loss: 2216.7329\n",
      "Epoch 277/400\n",
      "7/7 [==============================] - 0s 5ms/step - loss: 2404.3787 - val_loss: 2186.9270\n",
      "Epoch 278/400\n",
      "7/7 [==============================] - 0s 4ms/step - loss: 2373.0728 - val_loss: 2157.4067\n",
      "Epoch 279/400\n",
      "7/7 [==============================] - 0s 5ms/step - loss: 2341.0098 - val_loss: 2128.2056\n",
      "Epoch 280/400\n",
      "7/7 [==============================] - 0s 4ms/step - loss: 2309.5854 - val_loss: 2099.4524\n",
      "Epoch 281/400\n",
      "7/7 [==============================] - 0s 4ms/step - loss: 2279.4890 - val_loss: 2071.8376\n",
      "Epoch 282/400\n",
      "7/7 [==============================] - 0s 4ms/step - loss: 2249.7761 - val_loss: 2045.6506\n",
      "Epoch 283/400\n",
      "7/7 [==============================] - 0s 5ms/step - loss: 2221.1863 - val_loss: 2020.5012\n",
      "Epoch 284/400\n",
      "7/7 [==============================] - 0s 4ms/step - loss: 2192.4946 - val_loss: 1996.2705\n",
      "Epoch 285/400\n",
      "7/7 [==============================] - 0s 4ms/step - loss: 2165.9158 - val_loss: 1972.7583\n",
      "Epoch 286/400\n",
      "7/7 [==============================] - 0s 4ms/step - loss: 2140.6475 - val_loss: 1950.2463\n",
      "Epoch 287/400\n",
      "7/7 [==============================] - 0s 4ms/step - loss: 2118.5378 - val_loss: 1928.6549\n",
      "Epoch 288/400\n",
      "7/7 [==============================] - 0s 5ms/step - loss: 2097.9792 - val_loss: 1909.5745\n",
      "Epoch 289/400\n",
      "7/7 [==============================] - 0s 5ms/step - loss: 2080.7488 - val_loss: 1891.5813\n",
      "Epoch 290/400\n",
      "7/7 [==============================] - 0s 4ms/step - loss: 2064.1443 - val_loss: 1874.8475\n",
      "Epoch 291/400\n",
      "7/7 [==============================] - 0s 4ms/step - loss: 2049.8132 - val_loss: 1858.7302\n",
      "Epoch 292/400\n",
      "7/7 [==============================] - 0s 4ms/step - loss: 2034.3276 - val_loss: 1843.5868\n",
      "Epoch 293/400\n",
      "7/7 [==============================] - 0s 4ms/step - loss: 2021.2444 - val_loss: 1829.0416\n",
      "Epoch 294/400\n",
      "7/7 [==============================] - 0s 5ms/step - loss: 2008.0924 - val_loss: 1815.8566\n",
      "Epoch 295/400\n",
      "7/7 [==============================] - 0s 5ms/step - loss: 1995.5653 - val_loss: 1802.6842\n",
      "Epoch 296/400\n",
      "7/7 [==============================] - 0s 4ms/step - loss: 1984.2458 - val_loss: 1790.0209\n",
      "Epoch 297/400\n",
      "7/7 [==============================] - 0s 4ms/step - loss: 1974.0559 - val_loss: 1778.0094\n",
      "Epoch 298/400\n",
      "7/7 [==============================] - 0s 4ms/step - loss: 1965.7041 - val_loss: 1767.1632\n",
      "Epoch 299/400\n",
      "7/7 [==============================] - 0s 4ms/step - loss: 1956.4600 - val_loss: 1758.2180\n",
      "Epoch 300/400\n",
      "7/7 [==============================] - 0s 4ms/step - loss: 1950.1636 - val_loss: 1750.2898\n",
      "Epoch 301/400\n",
      "7/7 [==============================] - 0s 5ms/step - loss: 1943.9637 - val_loss: 1742.5275\n",
      "Epoch 302/400\n",
      "7/7 [==============================] - 0s 4ms/step - loss: 1939.2065 - val_loss: 1735.7015\n",
      "Epoch 303/400\n",
      "7/7 [==============================] - 0s 5ms/step - loss: 1934.8892 - val_loss: 1730.7483\n",
      "Epoch 304/400\n",
      "7/7 [==============================] - 0s 4ms/step - loss: 1930.5663 - val_loss: 1727.0164\n",
      "Epoch 305/400\n",
      "7/7 [==============================] - 0s 4ms/step - loss: 1927.5414 - val_loss: 1722.2238\n",
      "Epoch 306/400\n",
      "7/7 [==============================] - 0s 4ms/step - loss: 1924.5229 - val_loss: 1719.0062\n",
      "Epoch 307/400\n",
      "7/7 [==============================] - 0s 5ms/step - loss: 1921.8350 - val_loss: 1716.3093\n",
      "Epoch 308/400\n",
      "7/7 [==============================] - 0s 4ms/step - loss: 1919.8778 - val_loss: 1714.3479\n",
      "Epoch 309/400\n",
      "7/7 [==============================] - 0s 4ms/step - loss: 1917.6168 - val_loss: 1711.9049\n",
      "Epoch 310/400\n",
      "7/7 [==============================] - 0s 5ms/step - loss: 1916.1013 - val_loss: 1709.3400\n",
      "Epoch 311/400\n",
      "7/7 [==============================] - 0s 4ms/step - loss: 1914.5499 - val_loss: 1708.3364\n",
      "Epoch 312/400\n",
      "7/7 [==============================] - 0s 4ms/step - loss: 1913.1052 - val_loss: 1706.0900\n",
      "Epoch 313/400\n"
     ]
    },
    {
     "name": "stdout",
     "output_type": "stream",
     "text": [
      "7/7 [==============================] - 0s 4ms/step - loss: 1911.8596 - val_loss: 1704.8517\n",
      "Epoch 314/400\n",
      "7/7 [==============================] - 0s 5ms/step - loss: 1911.0016 - val_loss: 1701.7559\n",
      "Epoch 315/400\n",
      "7/7 [==============================] - 0s 4ms/step - loss: 1909.1522 - val_loss: 1701.0214\n",
      "Epoch 316/400\n",
      "7/7 [==============================] - 0s 4ms/step - loss: 1908.0619 - val_loss: 1699.8977\n",
      "Epoch 317/400\n",
      "7/7 [==============================] - 0s 4ms/step - loss: 1906.9099 - val_loss: 1698.1953\n",
      "Epoch 318/400\n",
      "7/7 [==============================] - 0s 5ms/step - loss: 1906.0085 - val_loss: 1696.1786\n",
      "Epoch 319/400\n",
      "7/7 [==============================] - 0s 5ms/step - loss: 1904.9781 - val_loss: 1696.0513\n",
      "Epoch 320/400\n",
      "7/7 [==============================] - 0s 4ms/step - loss: 1903.9749 - val_loss: 1694.7532\n",
      "Epoch 321/400\n",
      "7/7 [==============================] - 0s 4ms/step - loss: 1902.9984 - val_loss: 1692.8903\n",
      "Epoch 322/400\n",
      "7/7 [==============================] - 0s 4ms/step - loss: 1902.1332 - val_loss: 1691.7598\n",
      "Epoch 323/400\n",
      "7/7 [==============================] - 0s 4ms/step - loss: 1901.2872 - val_loss: 1691.4788\n",
      "Epoch 324/400\n",
      "7/7 [==============================] - 0s 4ms/step - loss: 1900.4624 - val_loss: 1691.0135\n",
      "Epoch 325/400\n",
      "7/7 [==============================] - 0s 4ms/step - loss: 1899.6512 - val_loss: 1689.1414\n",
      "Epoch 326/400\n",
      "7/7 [==============================] - 0s 4ms/step - loss: 1898.5657 - val_loss: 1688.1410\n",
      "Epoch 327/400\n",
      "7/7 [==============================] - 0s 5ms/step - loss: 1897.8756 - val_loss: 1687.3445\n",
      "Epoch 328/400\n",
      "7/7 [==============================] - 0s 4ms/step - loss: 1897.9169 - val_loss: 1687.7267\n",
      "Epoch 329/400\n",
      "7/7 [==============================] - 0s 4ms/step - loss: 1896.3374 - val_loss: 1685.8409\n",
      "Epoch 330/400\n",
      "7/7 [==============================] - 0s 5ms/step - loss: 1896.0032 - val_loss: 1684.2887\n",
      "Epoch 331/400\n",
      "7/7 [==============================] - 0s 5ms/step - loss: 1895.1515 - val_loss: 1684.8718\n",
      "Epoch 332/400\n",
      "7/7 [==============================] - 0s 4ms/step - loss: 1894.7338 - val_loss: 1684.8796\n",
      "Epoch 333/400\n",
      "7/7 [==============================] - 0s 4ms/step - loss: 1893.9684 - val_loss: 1682.7336\n",
      "Epoch 334/400\n",
      "7/7 [==============================] - 0s 4ms/step - loss: 1892.9764 - val_loss: 1682.0934\n",
      "Epoch 335/400\n",
      "7/7 [==============================] - 0s 5ms/step - loss: 1892.5039 - val_loss: 1681.1743\n",
      "Epoch 336/400\n",
      "7/7 [==============================] - 0s 4ms/step - loss: 1891.5778 - val_loss: 1681.4397\n",
      "Epoch 337/400\n",
      "7/7 [==============================] - 0s 6ms/step - loss: 1891.3162 - val_loss: 1681.0404\n",
      "Epoch 338/400\n",
      "7/7 [==============================] - 0s 4ms/step - loss: 1890.7196 - val_loss: 1679.7710\n",
      "Epoch 339/400\n",
      "7/7 [==============================] - 0s 5ms/step - loss: 1889.8865 - val_loss: 1678.8795\n",
      "Epoch 340/400\n",
      "7/7 [==============================] - 0s 4ms/step - loss: 1889.2330 - val_loss: 1677.9816\n",
      "Epoch 341/400\n",
      "7/7 [==============================] - 0s 4ms/step - loss: 1888.9108 - val_loss: 1677.3026\n",
      "Epoch 342/400\n",
      "7/7 [==============================] - 0s 5ms/step - loss: 1888.0156 - val_loss: 1677.1864\n",
      "Epoch 343/400\n",
      "7/7 [==============================] - 0s 4ms/step - loss: 1887.3756 - val_loss: 1677.1741\n",
      "Epoch 344/400\n",
      "7/7 [==============================] - 0s 4ms/step - loss: 1887.0813 - val_loss: 1676.7896\n",
      "Epoch 345/400\n",
      "7/7 [==============================] - 0s 4ms/step - loss: 1886.4642 - val_loss: 1675.8688\n",
      "Epoch 346/400\n",
      "7/7 [==============================] - 0s 4ms/step - loss: 1885.9744 - val_loss: 1674.4779\n",
      "Epoch 347/400\n",
      "7/7 [==============================] - 0s 4ms/step - loss: 1885.3337 - val_loss: 1674.4503\n",
      "Epoch 348/400\n",
      "7/7 [==============================] - 0s 4ms/step - loss: 1884.9236 - val_loss: 1673.7426\n",
      "Epoch 349/400\n",
      "7/7 [==============================] - 0s 4ms/step - loss: 1883.9174 - val_loss: 1674.3574\n",
      "Epoch 350/400\n",
      "7/7 [==============================] - 0s 4ms/step - loss: 1883.5421 - val_loss: 1673.9166\n",
      "Epoch 351/400\n",
      "7/7 [==============================] - 0s 5ms/step - loss: 1883.4674 - val_loss: 1671.8704\n",
      "Epoch 352/400\n",
      "7/7 [==============================] - 0s 4ms/step - loss: 1882.3885 - val_loss: 1672.0540\n",
      "Epoch 353/400\n",
      "7/7 [==============================] - 0s 4ms/step - loss: 1881.6670 - val_loss: 1672.1750\n",
      "Epoch 354/400\n",
      "7/7 [==============================] - 0s 4ms/step - loss: 1881.3523 - val_loss: 1671.7854\n",
      "Epoch 355/400\n",
      "7/7 [==============================] - 0s 5ms/step - loss: 1880.7657 - val_loss: 1670.8071\n",
      "Epoch 356/400\n",
      "7/7 [==============================] - 0s 5ms/step - loss: 1880.2610 - val_loss: 1669.7694\n",
      "Epoch 357/400\n",
      "7/7 [==============================] - 0s 4ms/step - loss: 1879.4723 - val_loss: 1669.9427\n",
      "Epoch 358/400\n",
      "7/7 [==============================] - 0s 4ms/step - loss: 1879.3391 - val_loss: 1669.9413\n",
      "Epoch 359/400\n",
      "7/7 [==============================] - 0s 4ms/step - loss: 1878.5341 - val_loss: 1668.5802\n",
      "Epoch 360/400\n",
      "7/7 [==============================] - 0s 4ms/step - loss: 1877.8728 - val_loss: 1667.4926\n",
      "Epoch 361/400\n",
      "7/7 [==============================] - 0s 4ms/step - loss: 1877.3514 - val_loss: 1667.0782\n",
      "Epoch 362/400\n",
      "7/7 [==============================] - 0s 4ms/step - loss: 1876.6680 - val_loss: 1666.3566\n",
      "Epoch 363/400\n",
      "7/7 [==============================] - 0s 4ms/step - loss: 1876.2916 - val_loss: 1665.5702\n",
      "Epoch 364/400\n",
      "7/7 [==============================] - 0s 5ms/step - loss: 1875.5070 - val_loss: 1666.4556\n",
      "Epoch 365/400\n",
      "7/7 [==============================] - 0s 4ms/step - loss: 1875.2188 - val_loss: 1665.0663\n",
      "Epoch 366/400\n",
      "7/7 [==============================] - 0s 4ms/step - loss: 1874.2522 - val_loss: 1664.1389\n",
      "Epoch 367/400\n",
      "7/7 [==============================] - 0s 4ms/step - loss: 1873.9087 - val_loss: 1663.2322\n",
      "Epoch 368/400\n",
      "7/7 [==============================] - 0s 5ms/step - loss: 1873.2705 - val_loss: 1662.9631\n",
      "Epoch 369/400\n",
      "7/7 [==============================] - 0s 4ms/step - loss: 1872.9729 - val_loss: 1664.7195\n",
      "Epoch 370/400\n",
      "7/7 [==============================] - 0s 4ms/step - loss: 1872.5563 - val_loss: 1662.7927\n",
      "Epoch 371/400\n",
      "7/7 [==============================] - 0s 4ms/step - loss: 1871.3500 - val_loss: 1661.2363\n",
      "Epoch 372/400\n",
      "7/7 [==============================] - 0s 4ms/step - loss: 1870.9401 - val_loss: 1660.4330\n",
      "Epoch 373/400\n",
      "7/7 [==============================] - 0s 4ms/step - loss: 1870.8820 - val_loss: 1659.7014\n",
      "Epoch 374/400\n",
      "7/7 [==============================] - 0s 4ms/step - loss: 1870.7292 - val_loss: 1661.4698\n",
      "Epoch 375/400\n",
      "7/7 [==============================] - 0s 4ms/step - loss: 1869.4624 - val_loss: 1659.7267\n",
      "Epoch 376/400\n",
      "7/7 [==============================] - 0s 4ms/step - loss: 1868.4811 - val_loss: 1659.5374\n",
      "Epoch 377/400\n",
      "7/7 [==============================] - 0s 4ms/step - loss: 1868.2100 - val_loss: 1659.3528\n",
      "Epoch 378/400\n",
      "7/7 [==============================] - 0s 4ms/step - loss: 1867.3221 - val_loss: 1658.3073\n",
      "Epoch 379/400\n",
      "7/7 [==============================] - 0s 4ms/step - loss: 1866.7251 - val_loss: 1657.5344\n",
      "Epoch 380/400\n",
      "7/7 [==============================] - 0s 4ms/step - loss: 1866.3588 - val_loss: 1657.0747\n",
      "Epoch 381/400\n",
      "7/7 [==============================] - 0s 4ms/step - loss: 1865.7380 - val_loss: 1656.2504\n",
      "Epoch 382/400\n",
      "7/7 [==============================] - 0s 4ms/step - loss: 1864.9139 - val_loss: 1656.2189\n",
      "Epoch 383/400\n",
      "7/7 [==============================] - 0s 4ms/step - loss: 1864.4403 - val_loss: 1655.5168\n",
      "Epoch 384/400\n",
      "7/7 [==============================] - 0s 4ms/step - loss: 1863.7839 - val_loss: 1655.2396\n",
      "Epoch 385/400\n",
      "7/7 [==============================] - 0s 4ms/step - loss: 1863.1748 - val_loss: 1654.5194\n",
      "Epoch 386/400\n",
      "7/7 [==============================] - 0s 5ms/step - loss: 1862.8759 - val_loss: 1653.2195\n",
      "Epoch 387/400\n",
      "7/7 [==============================] - 0s 4ms/step - loss: 1861.7948 - val_loss: 1653.0378\n",
      "Epoch 388/400\n",
      "7/7 [==============================] - 0s 5ms/step - loss: 1861.5927 - val_loss: 1652.9298\n",
      "Epoch 389/400\n",
      "7/7 [==============================] - 0s 4ms/step - loss: 1861.9180 - val_loss: 1651.2072\n",
      "Epoch 390/400\n",
      "7/7 [==============================] - 0s 4ms/step - loss: 1860.1041 - val_loss: 1651.4698\n",
      "Epoch 391/400\n"
     ]
    },
    {
     "name": "stdout",
     "output_type": "stream",
     "text": [
      "7/7 [==============================] - 0s 4ms/step - loss: 1859.4204 - val_loss: 1651.0995\n",
      "Epoch 392/400\n",
      "7/7 [==============================] - 0s 4ms/step - loss: 1858.8414 - val_loss: 1650.7717\n",
      "Epoch 393/400\n",
      "7/7 [==============================] - 0s 5ms/step - loss: 1858.0154 - val_loss: 1649.3524\n",
      "Epoch 394/400\n",
      "7/7 [==============================] - 0s 4ms/step - loss: 1857.2163 - val_loss: 1648.7141\n",
      "Epoch 395/400\n",
      "7/7 [==============================] - 0s 4ms/step - loss: 1856.7515 - val_loss: 1648.0889\n",
      "Epoch 396/400\n",
      "7/7 [==============================] - 0s 4ms/step - loss: 1856.2695 - val_loss: 1647.8749\n",
      "Epoch 397/400\n",
      "7/7 [==============================] - 0s 5ms/step - loss: 1855.3978 - val_loss: 1647.5392\n",
      "Epoch 398/400\n",
      "7/7 [==============================] - 0s 4ms/step - loss: 1854.5876 - val_loss: 1646.5435\n",
      "Epoch 399/400\n",
      "7/7 [==============================] - 0s 4ms/step - loss: 1853.7484 - val_loss: 1645.2947\n",
      "Epoch 400/400\n",
      "7/7 [==============================] - 0s 4ms/step - loss: 1853.0762 - val_loss: 1644.9656\n"
     ]
    },
    {
     "data": {
      "text/plain": [
       "<keras.src.callbacks.History at 0x7ff63a8234c0>"
      ]
     },
     "execution_count": 46,
     "metadata": {},
     "output_type": "execute_result"
    }
   ],
   "source": [
    "model.fit(X_train,y_train,validation_data=(X_test,y_test),batch_size=128,epochs=400)"
   ]
  },
  {
   "cell_type": "code",
   "execution_count": 47,
   "id": "49d59baf",
   "metadata": {},
   "outputs": [],
   "source": [
    "losses = pd.DataFrame(data=model.history.history)"
   ]
  },
  {
   "cell_type": "code",
   "execution_count": 48,
   "id": "cb41176b",
   "metadata": {},
   "outputs": [
    {
     "data": {
      "text/plain": [
       "<AxesSubplot:>"
      ]
     },
     "execution_count": 48,
     "metadata": {},
     "output_type": "execute_result"
    },
    {
     "data": {
      "image/png": "[encoded data removed]",
      "text/plain": [
       "<Figure size 432x288 with 1 Axes>"
      ]
     },
     "metadata": {
      "needs_background": "light"
     },
     "output_type": "display_data"
    }
   ],
   "source": [
    "losses.plot(kind='line')"
   ]
  },
  {
   "cell_type": "code",
   "execution_count": 49,
   "id": "c168f85f",
   "metadata": {},
   "outputs": [
    {
     "name": "stdout",
     "output_type": "stream",
     "text": [
      "12/12 [==============================] - 0s 811us/step\n"
     ]
    }
   ],
   "source": [
    "predictions = model.predict(X_test)"
   ]
  },
  {
   "cell_type": "code",
   "execution_count": 50,
   "id": "fd5e52fe",
   "metadata": {},
   "outputs": [
    {
     "name": "stdout",
     "output_type": "stream",
     "text": [
      "Mean absolute error:\n",
      "1644.965733461263\n",
      "Mean squared error:\n",
      "18716730.286055405\n",
      "Square root of Mean squared error:\n",
      "4326.283657604457\n"
     ]
    }
   ],
   "source": [
    "print('Mean absolute error:')\n",
    "print(mean_absolute_error(y_test,predictions))\n",
    "print('Mean squared error:' )\n",
    "print(mean_squared_error(y_test,predictions))\n",
    "print('Square root of Mean squared error:' )\n",
    "print(np.sqrt(mean_squared_error(y_test,predictions)))"
   ]
  },
  {
   "cell_type": "code",
   "execution_count": 51,
   "id": "dfa8e2a9",
   "metadata": {},
   "outputs": [
    {
     "data": {
      "text/plain": [
       "0.6330433026392557"
      ]
     },
     "execution_count": 51,
     "metadata": {},
     "output_type": "execute_result"
    }
   ],
   "source": [
    "explained_variance_score(y_test,predictions)"
   ]
  },
  {
   "cell_type": "code",
   "execution_count": 52,
   "id": "04bc6e0e",
   "metadata": {},
   "outputs": [
    {
     "data": {
      "text/plain": [
       "[<matplotlib.lines.Line2D at 0x7ff63b964640>]"
      ]
     },
     "execution_count": 52,
     "metadata": {},
     "output_type": "execute_result"
    },
    {
     "data": {
      "image/png": "[encoded data removed]",
      "text/plain": [
       "<Figure size 576x576 with 1 Axes>"
      ]
     },
     "metadata": {
      "needs_background": "light"
     },
     "output_type": "display_data"
    }
   ],
   "source": [
    "plt.figure(figsize=(8,8))\n",
    "plt.scatter(x=y_test,y=predictions)\n",
    "plt.xlabel('y_test')\n",
    "plt.ylabel('predictions')\n",
    "plt.title('Deep learning model')\n",
    "plt.plot(y_test,y_test,color='orange')"
   ]
  },
  {
   "cell_type": "code",
   "execution_count": null,
   "id": "25c9c985",
   "metadata": {},
   "outputs": [],
   "source": []
  },
  {
   "cell_type": "code",
   "execution_count": null,
   "id": "4a9a93d8",
   "metadata": {},
   "outputs": [],
   "source": []
  },
  {
   "cell_type": "code",
   "execution_count": null,
   "id": "51afb17a",
   "metadata": {},
   "outputs": [],
   "source": []
  },
  {
   "cell_type": "code",
   "execution_count": null,
   "id": "fe811757",
   "metadata": {},
   "outputs": [],
   "source": []
  },
  {
   "cell_type": "code",
   "execution_count": null,
   "id": "566138dc",
   "metadata": {},
   "outputs": [],
   "source": []
  },
  {
   "cell_type": "code",
   "execution_count": null,
   "id": "c1fe5c38",
   "metadata": {},
   "outputs": [],
   "source": []
  }
 ],
 "metadata": {
  "kernelspec": {
   "display_name": "Python 3",
   "language": "python",
   "name": "python3"
  },
  "language_info": {
   "codemirror_mode": {
    "name": "ipython",
    "version": 3
   },
   "file_extension": ".py",
   "mimetype": "text/x-python",
   "name": "python",
   "nbconvert_exporter": "python",
   "pygments_lexer": "ipython3",
   "version": "3.8.8"
  }
 },
 "nbformat": 4,
 "nbformat_minor": 5
}
